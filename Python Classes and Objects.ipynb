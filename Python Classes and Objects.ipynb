{
 "cells": [
  {
   "cell_type": "markdown",
   "metadata": {},
   "source": [
    "Python is an object oriented programming language (OOP) concepts.\n",
    "\n",
    "Thats why we require classes in python: Think of a class as a blueprint of the house. It contains all the details about the floors, doors, windows, etc. Based on these descriptives we build the house. House is a object."
   ]
  },
  {
   "cell_type": "markdown",
   "metadata": {},
   "source": [
    "We are passing an empty class over here."
   ]
  },
  {
   "cell_type": "code",
   "execution_count": 2,
   "metadata": {},
   "outputs": [],
   "source": [
    "class Student():\n",
    "    pass\n"
   ]
  },
  {
   "cell_type": "markdown",
   "metadata": {},
   "source": [
    "While working with classes variables are called attributes and functions are called as Methods."
   ]
  },
  {
   "cell_type": "code",
   "execution_count": 3,
   "metadata": {},
   "outputs": [
    {
     "name": "stdout",
     "output_type": "stream",
     "text": [
      "harry\n"
     ]
    }
   ],
   "source": [
    "student1 = Student()\n",
    "student1.name = \"harry\"\n",
    "student1.marks = 85\n",
    "\n",
    "print(student1.name)\n"
   ]
  },
  {
   "cell_type": "code",
   "execution_count": 7,
   "metadata": {},
   "outputs": [
    {
     "name": "stdout",
     "output_type": "stream",
     "text": [
      "True\n"
     ]
    }
   ],
   "source": [
    "class Student():\n",
    "    \n",
    "    def check_pass_fail(self):\n",
    "        if self.marks >= 45:\n",
    "            return True\n",
    "        else:\n",
    "            return False\n",
    "            \n",
    "student1 = Student()\n",
    "student1.name = \"harry\"\n",
    "student1.marks = 85\n",
    "\n",
    "did_pass = student1.check_pass_fail()\n",
    "print(did_pass)"
   ]
  },
  {
   "cell_type": "markdown",
   "metadata": {},
   "source": [
    "whenever we define an arguement we need to pass self as a default arguement.This self represents the object calling it. Self is just an identifier we can use any name in place of self."
   ]
  },
  {
   "cell_type": "code",
   "execution_count": 2,
   "metadata": {},
   "outputs": [
    {
     "name": "stdout",
     "output_type": "stream",
     "text": [
      "True\n",
      "False\n",
      "True\n"
     ]
    }
   ],
   "source": [
    "class Student():\n",
    "    \n",
    "    def check_pass_fail(self):\n",
    "        if self.marks >= 50:\n",
    "            return True\n",
    "        else:\n",
    "            return False\n",
    "            \n",
    "student1 = Student()\n",
    "student1.name = \"harry\"\n",
    "student1.marks = 85\n",
    "\n",
    "did_pass = student1.check_pass_fail()\n",
    "print(did_pass)\n",
    "\n",
    "student2 = Student()\n",
    "student2.name = \"Janet\"\n",
    "student2.marks = 35\n",
    "\n",
    "did_pass = student2.check_pass_fail()\n",
    "print(did_pass)\n",
    "\n",
    "student3 = Student()\n",
    "student3.name = \"Ryan\"\n",
    "student3.marks = 50\n",
    "did_pass = student3.check_pass_fail()\n",
    "print(did_pass)"
   ]
  },
  {
   "cell_type": "markdown",
   "metadata": {},
   "source": [
    "The__init__() method\n",
    "\n",
    "The init method is a special method that automatically gets called every time the objects gets created. The python method closely resembles to the constructors as to the other programming languages.\n"
   ]
  },
  {
   "cell_type": "code",
   "execution_count": 4,
   "metadata": {},
   "outputs": [
    {
     "name": "stdout",
     "output_type": "stream",
     "text": [
      "pandya\n",
      "45\n",
      "Janet\n",
      "35\n"
     ]
    }
   ],
   "source": [
    "class Student():\n",
    "    \n",
    "    def check_pass_fail(self):\n",
    "        if self.marks >= 35:\n",
    "            return True\n",
    "        else:\n",
    "            return False\n",
    "        \n",
    "    def __init__(self, name, marks):\n",
    "        self.name = name\n",
    "        self.marks = marks\n",
    "        \n",
    "student1= Student(\"pandya\",45)\n",
    "student2 = Student(\"Janet\", 35)\n",
    "print(student1.name)\n",
    "print(student1.marks)\n",
    "print(student2.name)\n",
    "print(student2.marks)"
   ]
  },
  {
   "cell_type": "code",
   "execution_count": 9,
   "metadata": {},
   "outputs": [
    {
     "name": "stdout",
     "output_type": "stream",
     "text": [
      "True\n",
      "True\n"
     ]
    }
   ],
   "source": [
    "class Student():\n",
    "    \n",
    "    def check_pass_fail(self):\n",
    "        if self.marks >= 35:\n",
    "            return True\n",
    "        else:\n",
    "            return False\n",
    "        \n",
    "    def __init__(self, name, marks):\n",
    "        self.name = name\n",
    "        self.marks = marks\n",
    "        \n",
    "student1= Student(\"pandya\",45)\n",
    "student2 = Student(\"Janet\", 35)\n",
    "\n",
    "did_pass = student1.check_pass_fail()\n",
    "print(did_pass)\n",
    "\n",
    "did_pass = student2.check_pass_fail()\n",
    "print(did_pass)"
   ]
  },
  {
   "cell_type": "code",
   "execution_count": 14,
   "metadata": {},
   "outputs": [
    {
     "name": "stdout",
     "output_type": "stream",
     "text": [
      "real:  1\n",
      "imag:  8\n"
     ]
    }
   ],
   "source": [
    "#making a class called complex numbers,\n",
    "class Complex():\n",
    "    \n",
    "    def __init__(self,real, imag):\n",
    "        self.real = real\n",
    "        self.imag = imag\n",
    "        \n",
    "    def add(self,number):\n",
    "        real = self.real + number.real\n",
    "        imag = self.imag + number.imag\n",
    "        result = Complex(real, imag)\n",
    "        return result\n",
    "    \n",
    "    \n",
    "n1 = Complex(5, 6)\n",
    "n2 = Complex(-4, 2)\n",
    "result = n1.add(n2)\n",
    "\n",
    "print(\"real: \", result.real)\n",
    "print(\"imag: \", result.imag)\n"
   ]
  },
  {
   "cell_type": "code",
   "execution_count": 24,
   "metadata": {},
   "outputs": [
    {
     "name": "stdout",
     "output_type": "stream",
     "text": [
      "[12]\n"
     ]
    }
   ],
   "source": [
    "class Triangle():\n",
    "    \n",
    "    def __init__(self,a,b,c):\n",
    "        self.a = a\n",
    "        self.b = b\n",
    "        self.c = c\n",
    "        \n",
    "    def Perimeter(self):\n",
    "        area =  [self.a + self.b + self.c]\n",
    "        h = sum(area)\n",
    "        return area\n",
    "        \n",
    "t1 = Triangle(3,4,5)\n",
    "result = t1.Perimeter()\n",
    "print(result)\n"
   ]
  },
  {
   "cell_type": "code",
   "execution_count": 34,
   "metadata": {},
   "outputs": [
    {
     "name": "stdout",
     "output_type": "stream",
     "text": [
      "the area of the tri:  30\n"
     ]
    }
   ],
   "source": [
    "class tri():\n",
    "    \n",
    "    def __init__(self,x,y,z):\n",
    "        self.x = x\n",
    "        self.y = y     #here we have just initialize the parmeters.\n",
    "        self.z = z\n",
    "        \n",
    "    def area(self):\n",
    "        area = [self.x *self. y * self.z]\n",
    "        result = sum(area)     #here we are calculating the area of the triangle.\n",
    "        return result\n",
    "    \n",
    "zth = tri(5,3,2)\n",
    "result = zth.area()\n",
    "print(\"the area of the tri: \", result)"
   ]
  },
  {
   "cell_type": "code",
   "execution_count": null,
   "metadata": {},
   "outputs": [],
   "source": []
  },
  {
   "cell_type": "code",
   "execution_count": null,
   "metadata": {},
   "outputs": [],
   "source": []
  }
 ],
 "metadata": {
  "kernelspec": {
   "display_name": "Python 3",
   "language": "python",
   "name": "python3"
  },
  "language_info": {
   "codemirror_mode": {
    "name": "ipython",
    "version": 3
   },
   "file_extension": ".py",
   "mimetype": "text/x-python",
   "name": "python",
   "nbconvert_exporter": "python",
   "pygments_lexer": "ipython3",
   "version": "3.8.5"
  }
 },
 "nbformat": 4,
 "nbformat_minor": 4
}
