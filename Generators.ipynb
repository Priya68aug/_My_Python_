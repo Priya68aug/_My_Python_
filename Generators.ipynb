{
 "cells": [
  {
   "cell_type": "markdown",
   "metadata": {},
   "source": [
    "A generator is an eligant way to custom iterators in python. That make it really easy to work with iterators. A generator is usually a function but with slight modification."
   ]
  },
  {
   "cell_type": "code",
   "execution_count": 1,
   "metadata": {},
   "outputs": [
    {
     "name": "stdout",
     "output_type": "stream",
     "text": [
      "2\n",
      "4\n",
      "6\n"
     ]
    }
   ],
   "source": [
    "def even_generator():\n",
    "    n = 0 #here we are stating the starting value.\n",
    "    \n",
    "    n += 2 #we are increasing the value by 2 \n",
    "    yield n\n",
    "    \n",
    "    n += 2 #everytime we are increasing the value by 2\n",
    "    yield n\n",
    "    \n",
    "    n+=2\n",
    "    yield n\n",
    "    \n",
    "numbers = even_generator()\n",
    "print(next(numbers)) #and then we are printing the value.\n",
    "print(next(numbers))\n",
    "print(next(numbers))"
   ]
  },
  {
   "cell_type": "markdown",
   "metadata": {},
   "source": [
    "Its a normal function but to make it a generator function, we need to implement one or more yield keywords inside it so that we can implement iterators."
   ]
  },
  {
   "cell_type": "code",
   "execution_count": 2,
   "metadata": {},
   "outputs": [
    {
     "name": "stdout",
     "output_type": "stream",
     "text": [
      "2\n",
      "4\n"
     ]
    },
    {
     "ename": "StopIteration",
     "evalue": "",
     "output_type": "error",
     "traceback": [
      "\u001b[1;31m---------------------------------------------------------------------------\u001b[0m",
      "\u001b[1;31mStopIteration\u001b[0m                             Traceback (most recent call last)",
      "\u001b[1;32m<ipython-input-2-f1c98cba5bcb>\u001b[0m in \u001b[0;36m<module>\u001b[1;34m\u001b[0m\n\u001b[0;32m     10\u001b[0m \u001b[0mprint\u001b[0m\u001b[1;33m(\u001b[0m\u001b[0mnext\u001b[0m\u001b[1;33m(\u001b[0m\u001b[0mnumbers\u001b[0m\u001b[1;33m)\u001b[0m\u001b[1;33m)\u001b[0m   \u001b[1;31m#its printing 2\u001b[0m\u001b[1;33m\u001b[0m\u001b[1;33m\u001b[0m\u001b[0m\n\u001b[0;32m     11\u001b[0m \u001b[0mprint\u001b[0m\u001b[1;33m(\u001b[0m\u001b[0mnext\u001b[0m\u001b[1;33m(\u001b[0m\u001b[0mnumbers\u001b[0m\u001b[1;33m)\u001b[0m\u001b[1;33m)\u001b[0m   \u001b[1;31m#its printing 4\u001b[0m\u001b[1;33m\u001b[0m\u001b[1;33m\u001b[0m\u001b[0m\n\u001b[1;32m---> 12\u001b[1;33m \u001b[0mprint\u001b[0m\u001b[1;33m(\u001b[0m\u001b[0mnext\u001b[0m\u001b[1;33m(\u001b[0m\u001b[0mnumbers\u001b[0m\u001b[1;33m)\u001b[0m\u001b[1;33m)\u001b[0m  \u001b[1;31m#this throws error as the max is reached.\u001b[0m\u001b[1;33m\u001b[0m\u001b[1;33m\u001b[0m\u001b[0m\n\u001b[0m\u001b[0;32m     13\u001b[0m \u001b[1;33m\u001b[0m\u001b[0m\n",
      "\u001b[1;31mStopIteration\u001b[0m: "
     ]
    }
   ],
   "source": [
    "def even_gene(max):\n",
    "    n = 2\n",
    "    \n",
    "    while n <= max:\n",
    "        yield n\n",
    "        \n",
    "        n += 2\n",
    "        \n",
    "numbers = even_gene(4)\n",
    "print(next(numbers))   #its printing 2\n",
    "print(next(numbers))   #its printing 4\n",
    "print(next(numbers))  #this throws error as the max is reached.\n",
    "    "
   ]
  },
  {
   "cell_type": "markdown",
   "metadata": {},
   "source": [
    "Infinite stream of Data with Generators:- Iterators and generators are used to hande a large stream of Data, at times infinte streams of data. These large stream of data cannot stored the memory at once, to handle this we can use generators to handle only one at a item at a time."
   ]
  },
  {
   "cell_type": "code",
   "execution_count": 5,
   "metadata": {},
   "outputs": [
    {
     "name": "stdout",
     "output_type": "stream",
     "text": [
      "0\n",
      "1\n",
      "1\n",
      "2\n",
      "3\n",
      "5\n",
      "8\n"
     ]
    }
   ],
   "source": [
    "#here we are going to write a function which will give us ficconacci numbers.\n",
    "\n",
    "def generate_fibonacci():\n",
    "    n1 = 0  #we are giving the start number \n",
    "    n2 = 1\n",
    "    while True:\n",
    "        yield n1\n",
    "        n1, n2 = n2,  n1 + n2\n",
    "        \n",
    "\n",
    "seq = generate_fibonacci()\n",
    "print(next(seq))\n",
    "print(next(seq))\n",
    "print(next(seq))\n",
    "print(next(seq))\n",
    "print(next(seq))\n",
    "print(next(seq))\n",
    "print(next(seq))"
   ]
  },
  {
   "cell_type": "code",
   "execution_count": 13,
   "metadata": {},
   "outputs": [
    {
     "name": "stdout",
     "output_type": "stream",
     "text": [
      "1\n",
      "5\n",
      "6\n",
      "11\n",
      "17\n",
      "28\n",
      "45\n",
      "73\n",
      "118\n",
      "191\n"
     ]
    }
   ],
   "source": [
    "def Gen_off():\n",
    "    n1 = 1\n",
    "    n2 = 3\n",
    "    \n",
    "    while True:\n",
    "        yield n1\n",
    "        #n1 , n2 = n2, n1 +n2    #here we are printing the odd fibonaaci numbers.\n",
    "        n1 += 2\n",
    "\n",
    "seq = Gen_off()\n",
    "print(next(seq))\n",
    "print(next(seq))\n",
    "print(next(seq))\n",
    "print(next(seq))\n",
    "print(next(seq))\n",
    "print(next(seq))\n",
    "print(next(seq))\n",
    "print(next(seq))\n",
    "print(next(seq))\n",
    "print(next(seq))"
   ]
  },
  {
   "cell_type": "code",
   "execution_count": null,
   "metadata": {},
   "outputs": [],
   "source": []
  }
 ],
 "metadata": {
  "kernelspec": {
   "display_name": "Python 3",
   "language": "python",
   "name": "python3"
  },
  "language_info": {
   "codemirror_mode": {
    "name": "ipython",
    "version": 3
   },
   "file_extension": ".py",
   "mimetype": "text/x-python",
   "name": "python",
   "nbconvert_exporter": "python",
   "pygments_lexer": "ipython3",
   "version": "3.8.5"
  }
 },
 "nbformat": 4,
 "nbformat_minor": 4
}
