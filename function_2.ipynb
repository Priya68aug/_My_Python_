{
 "cells": [
  {
   "cell_type": "markdown",
   "metadata": {},
   "source": [
    "In programming functions are groups of related statements that performs a specific task. They help to divide large codes into smaller parts and help us understand it easily and can make change to them easily."
   ]
  },
  {
   "cell_type": "code",
   "execution_count": 4,
   "metadata": {},
   "outputs": [
    {
     "name": "stdout",
     "output_type": "stream",
     "text": [
      "Annyong Kim nam joon\n",
      "how do you do\n"
     ]
    }
   ],
   "source": [
    "def greet(name):\n",
    "    print(\"Annyong\", name)\n",
    "    print(\"how do you do\")\n",
    "  \n",
    "greet(\"Kim nam joon\")\n",
    "\n"
   ]
  },
  {
   "cell_type": "markdown",
   "metadata": {},
   "source": [
    "now we will see how to give multiple arguements to the functions."
   ]
  },
  {
   "cell_type": "code",
   "execution_count": 5,
   "metadata": {},
   "outputs": [
    {
     "name": "stdout",
     "output_type": "stream",
     "text": [
      "the sum is:  86.7\n"
     ]
    }
   ],
   "source": [
    "def add_num(n1,n2):\n",
    "    result = n1+n2\n",
    "    print(\"the sum is: \", result)\n",
    "    \n",
    "number1 = 41.25\n",
    "number2 = 45.45\n",
    "add_num(number1,number2)"
   ]
  },
  {
   "cell_type": "code",
   "execution_count": 29,
   "metadata": {},
   "outputs": [
    {
     "name": "stdout",
     "output_type": "stream",
     "text": [
      "the sum is:  59.26\n"
     ]
    }
   ],
   "source": [
    "#return statement\n",
    "def add_num(n1,n2):\n",
    "    result = n1+n2\n",
    "    return result \n",
    "\n",
    "number1 = 45.12\n",
    "number2 = 14.14\n",
    "result = add_num(number1,number2)\n",
    "print(\"the sum is: \", result)"
   ]
  },
  {
   "cell_type": "code",
   "execution_count": 30,
   "metadata": {},
   "outputs": [
    {
     "name": "stdout",
     "output_type": "stream",
     "text": [
      "the name of the city is:  India\n",
      "the location is:  america\n"
     ]
    }
   ],
   "source": [
    "def city(name,location):\n",
    "    city_name = print('the name of the city is: ', name)\n",
    "    city_location = print(\"the location is: \",location)\n",
    "    #return(city_name,city_location)\n",
    "\n",
    "city(\"India\",\"america\")"
   ]
  },
  {
   "cell_type": "code",
   "execution_count": 31,
   "metadata": {},
   "outputs": [
    {
     "name": "stdout",
     "output_type": "stream",
     "text": [
      "the name of the band is:  bts\n",
      "the number of members:  seven\n"
     ]
    }
   ],
   "source": [
    " def kpop(name,members):\n",
    "        band_name = print('the name of the band is: ', name)\n",
    "        num_of_member = print(\"the number of members: \", members)\n",
    "\n",
    "kpop(\"bts\", \"seven\")        "
   ]
  },
  {
   "cell_type": "code",
   "execution_count": 33,
   "metadata": {},
   "outputs": [
    {
     "name": "stdout",
     "output_type": "stream",
     "text": [
      "the product is:  252\n"
     ]
    }
   ],
   "source": [
    "def multiply(n1,n2):\n",
    "    product = n1*n2\n",
    "    print(\"the product is: \", product)\n",
    "    #return(product)\n",
    "\n",
    "num_1 = 14\n",
    "num_2 = 18\n",
    "multiply(num_1,num_2)\n"
   ]
  },
  {
   "cell_type": "code",
   "execution_count": 37,
   "metadata": {},
   "outputs": [
    {
     "name": "stdout",
     "output_type": "stream",
     "text": [
      "the length of marks is: 5\n"
     ]
    }
   ],
   "source": [
    "marks = [55,64,75,80,34]\n",
    "\n",
    "length = len(marks)\n",
    "print(\"the length of marks is:\",length)"
   ]
  },
  {
   "cell_type": "code",
   "execution_count": 38,
   "metadata": {},
   "outputs": [
    {
     "name": "stdout",
     "output_type": "stream",
     "text": [
      "the total of it is:  308\n"
     ]
    }
   ],
   "source": [
    "marks = [55,64,75,80,34]\n",
    "\n",
    "total = sum(marks)\n",
    "print(\"the total of it is: \", total)"
   ]
  },
  {
   "cell_type": "code",
   "execution_count": 43,
   "metadata": {},
   "outputs": [
    {
     "name": "stdout",
     "output_type": "stream",
     "text": [
      "the average mark is:  67.8\n",
      "your grade is:  B\n"
     ]
    }
   ],
   "source": [
    "#function to get the average marks \n",
    "marks = [55,64,75,80,65]\n",
    "def find_average_marks(marks):\n",
    "    sum_of_marks = sum(marks)\n",
    "    total_subject = len(marks)\n",
    "    average_marks = sum_of_marks / total_subject\n",
    "    return(average_marks)\n",
    "\n",
    "average_marks = find_average_marks(marks)\n",
    "print(\"the average mark is: \", average_marks)\n",
    "\n",
    "#function to calculate the grade\n",
    "def compute_grade(average_marks):\n",
    "    if average_marks >=80:\n",
    "        grade = 'A'\n",
    "    elif average_marks>=60:\n",
    "        grade = \"B\"\n",
    "    elif average_marks>=50:\n",
    "        grade = \"C\"\n",
    "    else:\n",
    "        grade = \"F\"\n",
    "    return grade\n",
    "\n",
    "grade = compute_grade(average_marks)\n",
    "print(\"your grade is: \", grade)\n",
    "\n"
   ]
  },
  {
   "cell_type": "code",
   "execution_count": 44,
   "metadata": {},
   "outputs": [
    {
     "name": "stdout",
     "output_type": "stream",
     "text": [
      "the addition of the two numbers is:  15\n"
     ]
    }
   ],
   "source": [
    "#programming task\n",
    "def add_numbers(m1,m2):\n",
    "    addition = m1 + m2\n",
    "    return(addition)\n",
    "number1 = 14\n",
    "number2 = 1\n",
    "product = add_numbers(number1,number2)\n",
    "print(\"the addition of the two numbers is: \", product)"
   ]
  },
  {
   "cell_type": "code",
   "execution_count": 45,
   "metadata": {},
   "outputs": [
    {
     "name": "stdout",
     "output_type": "stream",
     "text": [
      "the sum of the product is:  42\n"
     ]
    }
   ],
   "source": [
    "def multiply_numbers(r1,r2):\n",
    "    multiply = r1*r2\n",
    "    return(multiply)\n",
    "\n",
    "first_num=6\n",
    "second_number =7\n",
    "stored = multiply_numbers(first_num, second_number)\n",
    "print(\"the sum of the product is: \", stored)"
   ]
  },
  {
   "cell_type": "markdown",
   "metadata": {},
   "source": [
    "A function is a block of code that defines a specific task.\n",
    "we use the def keyword to define the function.\n",
    "To bring the function into action we need to call the function, The same function can be called many times as we want.\n",
    "We can pass values to the functions these values are called parameters or argurments.\n",
    "The return statement can be used inside the function.It returns the value from a function and exits the function."
   ]
  },
  {
   "cell_type": "code",
   "execution_count": 47,
   "metadata": {},
   "outputs": [
    {
     "name": "stdout",
     "output_type": "stream",
     "text": [
      "the value of the mean is:  61.6\n"
     ]
    }
   ],
   "source": [
    "marks = [55,64,75,80,34]\n",
    "def mean(marks):\n",
    "    total_value = sum(marks)\n",
    "    total_length = len(marks)\n",
    "    mean_value = sum(marks)/ len(marks)\n",
    "    return(mean_value)\n",
    "\n",
    "Value_of_mean = mean(marks)\n",
    "print(\"the value of the mean is: \", Value_of_mean)\n",
    "    "
   ]
  },
  {
   "cell_type": "code",
   "execution_count": 1,
   "metadata": {},
   "outputs": [
    {
     "name": "stdout",
     "output_type": "stream",
     "text": [
      "p\n",
      "r\n",
      "y\n",
      "a\n",
      "d\n",
      "a\n",
      "n\n",
      "g\n",
      "l\n",
      "e\n"
     ]
    }
   ],
   "source": [
    "character = [\"p\",\"r\",\"i\",\"y\",\"a\",\"d\",\"a\",\"n\",\"g\",\"l\",\"e\"]\n",
    "\n",
    "def strip(character):\n",
    "    for i in character:\n",
    "        if i == \"i\":\n",
    "            continue\n",
    "        print(i)\n",
    "        \n",
    "var = strip(character)        "
   ]
  },
  {
   "cell_type": "code",
   "execution_count": 2,
   "metadata": {},
   "outputs": [
    {
     "name": "stdout",
     "output_type": "stream",
     "text": [
      "english\n",
      "maths\n",
      "history\n",
      "science\n"
     ]
    }
   ],
   "source": [
    "subjects = ['english','maths','history','science','civics','algebra']\n",
    "\n",
    "for i in subjects:\n",
    "    if i == 'civics':\n",
    "        break\n",
    "    print(i)    "
   ]
  },
  {
   "cell_type": "code",
   "execution_count": 4,
   "metadata": {},
   "outputs": [
    {
     "name": "stdout",
     "output_type": "stream",
     "text": [
      "the product is:  30\n"
     ]
    }
   ],
   "source": [
    "def sub(j1,j2):\n",
    "    subtraction = j1 - j2\n",
    "    return(subtraction)\n",
    "\n",
    "number1 = 45\n",
    "number2 = 15\n",
    "product_of_multiplication = sub(number1, number2)\n",
    "print(\"the product is: \", product_of_multiplication)"
   ]
  },
  {
   "cell_type": "code",
   "execution_count": 5,
   "metadata": {},
   "outputs": [
    {
     "name": "stdout",
     "output_type": "stream",
     "text": [
      "the product of exponential:  16\n"
     ]
    }
   ],
   "source": [
    "def exp(d1,d2):\n",
    "    exponential = d1**d2\n",
    "    return(exponential)\n",
    "\n",
    "num1 = 2\n",
    "num2 = 4\n",
    "\n",
    "product = exp(num1,num2)\n",
    "print(\"the product of exponential: \",product)"
   ]
  },
  {
   "cell_type": "code",
   "execution_count": null,
   "metadata": {},
   "outputs": [],
   "source": []
  }
 ],
 "metadata": {
  "kernelspec": {
   "display_name": "Python 3",
   "language": "python",
   "name": "python3"
  },
  "language_info": {
   "codemirror_mode": {
    "name": "ipython",
    "version": 3
   },
   "file_extension": ".py",
   "mimetype": "text/x-python",
   "name": "python",
   "nbconvert_exporter": "python",
   "pygments_lexer": "ipython3",
   "version": "3.8.5"
  }
 },
 "nbformat": 4,
 "nbformat_minor": 4
}
