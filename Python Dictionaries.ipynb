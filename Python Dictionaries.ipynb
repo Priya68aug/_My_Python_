{
 "cells": [
  {
   "cell_type": "markdown",
   "metadata": {},
   "source": [
    "Dictionary is also a compund datatype. A Dictionary is a collection of key values pairs, it is similar to associate arrays in other programming languages. to create a dictionary in python we need to puts these inside curly brackets({\"name: \"priya\",\"age: \"26\"}) separated by commas. Keys of the dictionary can be any immutable objects like numbers, strings and tuples.\n",
    "However they cannot be objects that can be modified like lists.\n",
    "The keys must be unique for identification."
   ]
  },
  {
   "cell_type": "code",
   "execution_count": 1,
   "metadata": {},
   "outputs": [
    {
     "name": "stdout",
     "output_type": "stream",
     "text": [
      "{'name': 'Priya', 'age': '26'}\n"
     ]
    }
   ],
   "source": [
    "dictionary = {\"name\": \"Priya\",\"age\": \"26\"}\n",
    "print(dictionary)"
   ]
  },
  {
   "cell_type": "code",
   "execution_count": 3,
   "metadata": {},
   "outputs": [
    {
     "name": "stdout",
     "output_type": "stream",
     "text": [
      "{10: 'Linus', 'age': 21}\n"
     ]
    }
   ],
   "source": [
    "dictionary = {10: \"Linus\", (\"age\"): 21} #here we are printing and int as key and also tuple as key. And as we can see the dictionary takes the value and passes them without any error.\n",
    "print(dictionary) #this works because both 10 and tuple are immutable items."
   ]
  },
  {
   "cell_type": "code",
   "execution_count": 4,
   "metadata": {},
   "outputs": [
    {
     "name": "stdout",
     "output_type": "stream",
     "text": [
      "Priya\n"
     ]
    }
   ],
   "source": [
    "#we are gonna access the values of the dictionary.\n",
    "person = {\"name\": \"Priya\", \"age\": 26}\n",
    "print(person[\"name\"])"
   ]
  },
  {
   "cell_type": "code",
   "execution_count": 5,
   "metadata": {},
   "outputs": [
    {
     "name": "stdout",
     "output_type": "stream",
     "text": [
      "26\n"
     ]
    }
   ],
   "source": [
    "#we are gonna access the values of the dictionary.\n",
    "person = {\"name\": \"Priya\", \"age\": 26}\n",
    "print(person[\"age\"])"
   ]
  },
  {
   "cell_type": "code",
   "execution_count": 1,
   "metadata": {},
   "outputs": [
    {
     "ename": "KeyError",
     "evalue": "'hobbies'",
     "output_type": "error",
     "traceback": [
      "\u001b[1;31m---------------------------------------------------------------------------\u001b[0m",
      "\u001b[1;31mKeyError\u001b[0m                                  Traceback (most recent call last)",
      "\u001b[1;32m<ipython-input-1-ebf924183383>\u001b[0m in \u001b[0;36m<module>\u001b[1;34m\u001b[0m\n\u001b[0;32m      1\u001b[0m \u001b[0mperson\u001b[0m \u001b[1;33m=\u001b[0m \u001b[1;33m{\u001b[0m\u001b[1;34m\"name\"\u001b[0m\u001b[1;33m:\u001b[0m \u001b[1;34m\"Priya\"\u001b[0m\u001b[1;33m,\u001b[0m \u001b[1;34m\"age\"\u001b[0m\u001b[1;33m:\u001b[0m \u001b[1;36m26\u001b[0m\u001b[1;33m}\u001b[0m\u001b[1;33m\u001b[0m\u001b[1;33m\u001b[0m\u001b[0m\n\u001b[1;32m----> 2\u001b[1;33m \u001b[0mprint\u001b[0m\u001b[1;33m(\u001b[0m\u001b[0mperson\u001b[0m\u001b[1;33m[\u001b[0m\u001b[1;34m\"hobbies\"\u001b[0m\u001b[1;33m]\u001b[0m\u001b[1;33m)\u001b[0m\u001b[1;33m\u001b[0m\u001b[1;33m\u001b[0m\u001b[0m\n\u001b[0m",
      "\u001b[1;31mKeyError\u001b[0m: 'hobbies'"
     ]
    }
   ],
   "source": [
    "person = {\"name\": \"Priya\", \"age\": 26}\n",
    "print(person[\"hobbies\"])"
   ]
  },
  {
   "cell_type": "code",
   "execution_count": 2,
   "metadata": {},
   "outputs": [
    {
     "name": "stdout",
     "output_type": "stream",
     "text": [
      "None\n"
     ]
    }
   ],
   "source": [
    "#using get function\n",
    "person = {\"name\": \"Priya\", \"age\": 26}\n",
    "print(person.get(\"hobbies\"))"
   ]
  },
  {
   "cell_type": "code",
   "execution_count": 1,
   "metadata": {},
   "outputs": [
    {
     "name": "stdout",
     "output_type": "stream",
     "text": [
      "['dancing', 'fishing']\n"
     ]
    }
   ],
   "source": [
    "#we can also pass a second arguement to the get function.\n",
    "person = {\"name\": \"Priya\", \"age\": 26}\n",
    "print(person.get(\"hobbies\", [\"dancing\",\"fishing\"]))"
   ]
  },
  {
   "cell_type": "code",
   "execution_count": 5,
   "metadata": {},
   "outputs": [
    {
     "name": "stdout",
     "output_type": "stream",
     "text": [
      "{'name': 'Dennis', 'age': 26}\n"
     ]
    }
   ],
   "source": [
    "#we are going to change the value of the key and to g=do that we can use [ ] brackets and give the value\n",
    "person = {\"name\": \"Priya\", \"age\": 26}\n",
    "person[\"name\"] = \"Dennis\"\n",
    "print(person)"
   ]
  },
  {
   "cell_type": "code",
   "execution_count": 6,
   "metadata": {},
   "outputs": [
    {
     "name": "stdout",
     "output_type": "stream",
     "text": [
      "{'name': 'Priya', 'age': 26, 'hobbies': ['dancing', 'singing']}\n"
     ]
    }
   ],
   "source": [
    "#to add a new value to the dictionary we can use the following\n",
    "person = {\"name\": \"Priya\", \"age\": 26}\n",
    "person[\"hobbies\"] = [\"dancing\", \"singing\"]\n",
    "print(person)"
   ]
  },
  {
   "cell_type": "code",
   "execution_count": 7,
   "metadata": {},
   "outputs": [
    {
     "name": "stdout",
     "output_type": "stream",
     "text": [
      "{'age': 26}\n"
     ]
    }
   ],
   "source": [
    "#to remove items we use pop items and this method returns the value of the remove item.\n",
    "person = {\"name\": \"Priya\", \"age\": 26}\n",
    "person.pop(\"name\")\n",
    "print(person)\n"
   ]
  },
  {
   "cell_type": "code",
   "execution_count": 8,
   "metadata": {},
   "outputs": [
    {
     "name": "stdout",
     "output_type": "stream",
     "text": [
      "Priya\n",
      "{'age': 26}\n"
     ]
    }
   ],
   "source": [
    "#to get the remove item we have to wrap the item inside a print function.\n",
    "person = {\"name\": \"Priya\", \"age\": 26}\n",
    "print(person.pop(\"name\"))\n",
    "print(person)"
   ]
  },
  {
   "cell_type": "code",
   "execution_count": 9,
   "metadata": {},
   "outputs": [
    {
     "name": "stdout",
     "output_type": "stream",
     "text": [
      "name\n",
      "age\n"
     ]
    }
   ],
   "source": [
    "#Iterating items of the dictionary\n",
    "person = {\"name\": \"Priya\", \"age\": 26}\n",
    "\n",
    "for i in person:\n",
    "    print(i)"
   ]
  },
  {
   "cell_type": "code",
   "execution_count": 12,
   "metadata": {},
   "outputs": [
    {
     "name": "stdout",
     "output_type": "stream",
     "text": [
      "name\n",
      "Priya\n",
      "age\n",
      "26\n"
     ]
    }
   ],
   "source": [
    "#Iterating items of the dictionary keys\n",
    "person = {\"name\": \"Priya\", \"age\": 26}\n",
    "\n",
    "for i in person:\n",
    "    print(i)\n",
    "    print(person[i])"
   ]
  },
  {
   "cell_type": "code",
   "execution_count": 17,
   "metadata": {},
   "outputs": [
    {
     "name": "stdout",
     "output_type": "stream",
     "text": [
      "1. peak\n"
     ]
    }
   ],
   "source": [
    "synonyms = {\"mountain\":\"peak\",\"forest\":\"jungle\"}\n",
    "print(\"1.\",synonyms['mountain'])"
   ]
  },
  {
   "cell_type": "code",
   "execution_count": 20,
   "metadata": {},
   "outputs": [
    {
     "name": "stdout",
     "output_type": "stream",
     "text": [
      "2. {'mountain': 'peak', 'forest': 'jungle', 'terrian': 'land'}\n"
     ]
    }
   ],
   "source": [
    "synonyms['terrian'] = \"land\"\n",
    "print(\"2.\",synonyms)"
   ]
  },
  {
   "cell_type": "code",
   "execution_count": 21,
   "metadata": {},
   "outputs": [
    {
     "name": "stdout",
     "output_type": "stream",
     "text": [
      "3. {'mountain': 'peak', 'terrian': 'land'}\n"
     ]
    }
   ],
   "source": [
    "synonyms.pop(\"forest\")\n",
    "print(\"3.\", synonyms)"
   ]
  },
  {
   "cell_type": "code",
   "execution_count": null,
   "metadata": {},
   "outputs": [],
   "source": []
  }
 ],
 "metadata": {
  "kernelspec": {
   "display_name": "Python 3",
   "language": "python",
   "name": "python3"
  },
  "language_info": {
   "codemirror_mode": {
    "name": "ipython",
    "version": 3
   },
   "file_extension": ".py",
   "mimetype": "text/x-python",
   "name": "python",
   "nbconvert_exporter": "python",
   "pygments_lexer": "ipython3",
   "version": "3.8.5"
  }
 },
 "nbformat": 4,
 "nbformat_minor": 4
}
