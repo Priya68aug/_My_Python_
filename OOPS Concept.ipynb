{
 "cells": [
  {
   "cell_type": "markdown",
   "metadata": {},
   "source": [
    "Declaring an object."
   ]
  },
  {
   "cell_type": "code",
   "execution_count": 11,
   "metadata": {},
   "outputs": [
    {
     "name": "stdout",
     "output_type": "stream",
     "text": [
      "these are the defination:\n",
      "I'm a cat Loving\n",
      "I'm a cat Cuddling\n",
      "I'm a cat Goofy\n"
     ]
    }
   ],
   "source": [
    "class Cats:\n",
    "    \n",
    "    attr1 = \"Loving\"\n",
    "    attr2 = \"Cuddling\"\n",
    "    attr3 = \"Goofy\"\n",
    "    \n",
    "    def fun(self):\n",
    "        print(\"I'm a cat\", self.attr1)\n",
    "        print(\"I'm a cat\", self.attr2)\n",
    "        print(\"I'm a cat\", self.attr3)\n",
    "\n",
    "#driver code\n",
    "lisa = Cats()\n",
    "\n",
    "print(\"these are the defination:\")\n",
    "lisa.fun()\n",
    "\n",
    "        "
   ]
  },
  {
   "cell_type": "markdown",
   "metadata": {},
   "source": [
    "so now we will for practice define another object"
   ]
  },
  {
   "cell_type": "code",
   "execution_count": 15,
   "metadata": {},
   "outputs": [
    {
     "name": "stdout",
     "output_type": "stream",
     "text": [
      "the above mentioned characteristics are:\n",
      "i'm a horse with ovalshaped hooves\n",
      "I have long tails\n"
     ]
    }
   ],
   "source": [
    "class horses:\n",
    "     # attributes for the object horses.\n",
    "        attri1 = \"ovalshaped hooves\"\n",
    "        attr2 = \"long tails\"\n",
    "        \n",
    "        def fun(self):\n",
    "            print(\"i'm a horse with\", self.attri1)\n",
    "            print(\"I have\", self.attr2)\n",
    "#driver code.\n",
    "ragin = horses()\n",
    "\n",
    "print(\"the above mentioned characteristics are:\")\n",
    "ragin.fun()"
   ]
  },
  {
   "cell_type": "markdown",
   "metadata": {},
   "source": [
    "once more for practise purpose."
   ]
  },
  {
   "cell_type": "code",
   "execution_count": 19,
   "metadata": {},
   "outputs": [
    {
     "name": "stdout",
     "output_type": "stream",
     "text": [
      "Triceratops is\n",
      "first feature: sharp teeth\n",
      "second feature: huge creatures\n",
      "third feature: creepy looking\n"
     ]
    }
   ],
   "source": [
    "class dinosaurs:\n",
    "    \n",
    "    attribute_1 = \"sharp teeth\"\n",
    "    attribute_2 = \"huge creatures\"\n",
    "    attribute_3 = \"creepy looking\"\n",
    "    \n",
    "    def fun(self):\n",
    "        print(\"first feature:\", self.attribute_1)\n",
    "        print(\"second feature:\", self.attribute_2)\n",
    "        print(\"third feature:\", self.attribute_3)\n",
    "#driver code.\n",
    "Triceratops = dinosaurs()\n",
    "print(\"Triceratops is\")\n",
    "Triceratops.fun()"
   ]
  },
  {
   "cell_type": "markdown",
   "metadata": {},
   "source": [
    "# Now we will use the __init__method."
   ]
  },
  {
   "cell_type": "code",
   "execution_count": 62,
   "metadata": {},
   "outputs": [
    {
     "name": "stdout",
     "output_type": "stream",
     "text": [
      "Hello my name is: Janaki\n"
     ]
    }
   ],
   "source": [
    "class Person:\n",
    "    \n",
    "    def __init__(self,dame):\n",
    "        self.dame = dame\n",
    "    def say_hi(self):\n",
    "        print(\"Hello my name is:\",  self.dame)\n",
    "    #def sup_name(self):\n",
    "        #print(\"wassp guys\")\n",
    "\n",
    "#driver code.\n",
    "p = Person(\"Janaki\")\n",
    "p.say_hi()\n",
    "#p.sup_name()"
   ]
  },
  {
   "cell_type": "markdown",
   "metadata": {},
   "source": [
    "Creating one more __init__method"
   ]
  },
  {
   "cell_type": "code",
   "execution_count": 53,
   "metadata": {},
   "outputs": [
    {
     "name": "stdout",
     "output_type": "stream",
     "text": [
      "Kathak Kucchipudi\n",
      "1978 1322\n",
      "ghungroo bangles\n"
     ]
    }
   ],
   "source": [
    "class dancers:\n",
    "    \n",
    "    def __init__(self,name):\n",
    "         self.name = name\n",
    "    def dance_form(self):\n",
    "        print(\"Kathak\",\"Kucchipudi\")\n",
    "        \n",
    "    def dance_origin(self):\n",
    "        print(\"1978\",\"1322\")\n",
    "        \n",
    "    def dance_equp(self):\n",
    "        print(\"ghungroo\",\"bangles\")\n",
    " #driver code\n",
    "\n",
    "z = dancers(\"Western\")\n",
    "z.dance_form()\n",
    "z.dance_origin()\n",
    "z.dance_equp()\n",
    "        \n",
    "        "
   ]
  },
  {
   "cell_type": "markdown",
   "metadata": {},
   "source": [
    "taking one more example to understand init method better."
   ]
  },
  {
   "cell_type": "code",
   "execution_count": 63,
   "metadata": {},
   "outputs": [
    {
     "name": "stdout",
     "output_type": "stream",
     "text": [
      "the age is appropriate\n",
      "the skin is soft\n",
      "the features are just fine\n"
     ]
    }
   ],
   "source": [
    "class person:\n",
    "    def __init__(self):\n",
    "        print(\"the age is appropriate\")\n",
    "    def skin(self):\n",
    "        print(\"the skin is soft\")\n",
    "    def feat(self):\n",
    "        print(\"the features are just fine\")\n",
    "#driver code.\n",
    "p = person()\n",
    "p.skin()\n",
    "p.feat()"
   ]
  },
  {
   "cell_type": "markdown",
   "metadata": {},
   "source": [
    "now we will learn how to make class and variable instances."
   ]
  },
  {
   "cell_type": "code",
   "execution_count": 64,
   "metadata": {},
   "outputs": [
    {
     "name": "stdout",
     "output_type": "stream",
     "text": [
      "roger details:\n",
      "roger is a Dog\n",
      "Breed:  Pug\n",
      "Color:  brown\n",
      "buzo's details:\n",
      "buzo is a  Dog\n",
      "Breed:  bulldog\n",
      "Color:  black\n"
     ]
    }
   ],
   "source": [
    "#right from the beginning we have to define the class.\n",
    "class Dog:\n",
    "    #defining class variable.\n",
    "    animal = 'Dog'\n",
    "    #the init method  or constructor \n",
    "    def __init__(self, breed, color):\n",
    "        \n",
    "        #instance variables\n",
    "        self.breed = breed \n",
    "        self.color = color\n",
    "        \n",
    "#objects of dog class.\n",
    "roger = Dog(\"Pug\",\"brown\")\n",
    "buzo = Dog(\"bulldog\",\"black\")\n",
    "\n",
    "print(\"roger details:\")\n",
    "print(\"roger is a\",roger.animal)\n",
    "print(\"Breed: \", roger.breed)\n",
    "print(\"Color: \", roger.color)\n",
    "\n",
    "print(\"buzo's details:\")\n",
    "print(\"buzo is a \",buzo.animal)\n",
    "print(\"Breed: \",buzo.breed)\n",
    "print(\"Color: \",buzo.color)\n",
    "\n"
   ]
  },
  {
   "cell_type": "code",
   "execution_count": 65,
   "metadata": {},
   "outputs": [
    {
     "name": "stdout",
     "output_type": "stream",
     "text": [
      "Accessing class variable using class name\n",
      "Dog\n"
     ]
    }
   ],
   "source": [
    "#Class variables an be accessed using class variables.\n",
    "print(\"\\rAccessing class variable using class name\")\n",
    "print(Dog.animal)"
   ]
  },
  {
   "cell_type": "markdown",
   "metadata": {},
   "source": [
    "#practice for instance and class variable."
   ]
  },
  {
   "cell_type": "code",
   "execution_count": 72,
   "metadata": {},
   "outputs": [
    {
     "name": "stdout",
     "output_type": "stream",
     "text": [
      "bts details:\n",
      "the group is:  KPOP\n",
      "The group name is:  bts\n",
      "The members:  7 members\n",
      "blackpink details:\n",
      "the group is: KPOP\n",
      "The group name is: blackpink\n",
      "The members: 4 members\n"
     ]
    }
   ],
   "source": [
    "class kpop:\n",
    "    Stream = \"KPOP\"\n",
    "    \n",
    "    def __init__(self,group,members):\n",
    "        #instances variable.\n",
    "        \n",
    "        self.group = group\n",
    "        self.members = members\n",
    "        \n",
    "#objects of kpop class.\n",
    "bts = kpop(\"bts\",\"7 members\")\n",
    "blackpink = kpop(\"blackpink\",\"4 members\")\n",
    "\n",
    "print(\"bts details:\")\n",
    "print(\"the group is: \",bts.Stream)\n",
    "print(\"The group name is: \", bts.group)\n",
    "print(\"The members: \", bts.members)\n",
    "\n",
    "print(\"blackpink details:\")\n",
    "print(\"the group is:\",blackpink.Stream)\n",
    "print(\"The group name is:\", blackpink.group)\n",
    "print(\"The members:\",blackpink.members)\n",
    "\n",
    "\n",
    "        "
   ]
  },
  {
   "cell_type": "markdown",
   "metadata": {},
   "source": [
    "more examples to practice on instance and class variable."
   ]
  },
  {
   "cell_type": "code",
   "execution_count": 15,
   "metadata": {},
   "outputs": [
    {
     "name": "stdout",
     "output_type": "stream",
     "text": [
      "the industry is: kpop\n",
      "the country which they belong to;  South Korea\n",
      "the nationaliy is:  Korean\n",
      "the language spoken:  korean language\n",
      "the industry is:  kpop\n",
      "the country which they belong to:  South korean and Singapur\n",
      "the nationality is:  Korean\n",
      "the language spoken is:  korean and english\n"
     ]
    }
   ],
   "source": [
    "class kindustry:\n",
    "    industry = \"kpop\"\n",
    "    \n",
    "    def __init__(self,country,nationality,mothertongue):\n",
    "        self.country = country\n",
    "        self.nationality = nationality\n",
    "        self.mothertongue = mothertongue\n",
    "        \n",
    "#objects in other words also known as instances.\n",
    "bts = kindustry(\"South Korea\",\"Korean\",\"korean language\")\n",
    "blackpink = kindustry(\"South korean and Singapur\",\"Korean\",\"korean and english\")\n",
    "\n",
    "print(\"the industry is:\",bts.industry)\n",
    "print(\"the country which they belong to; \",bts.country)\n",
    "print(\"the nationaliy is: \", bts.nationality)\n",
    "print(\"the language spoken: \",bts.mothertongue)\n",
    "\n",
    "print(\"the industry is: \",blackpink.industry)\n",
    "print(\"the country which they belong to: \",blackpink.country)\n",
    "print(\"the nationality is: \", blackpink.nationality)\n",
    "print(\"the language spoken is: \",blackpink.mothertongue)\n",
    "\n"
   ]
  },
  {
   "cell_type": "code",
   "execution_count": null,
   "metadata": {},
   "outputs": [],
   "source": []
  }
 ],
 "metadata": {
  "kernelspec": {
   "display_name": "Python 3",
   "language": "python",
   "name": "python3"
  },
  "language_info": {
   "codemirror_mode": {
    "name": "ipython",
    "version": 3
   },
   "file_extension": ".py",
   "mimetype": "text/x-python",
   "name": "python",
   "nbconvert_exporter": "python",
   "pygments_lexer": "ipython3",
   "version": "3.8.5"
  }
 },
 "nbformat": 4,
 "nbformat_minor": 4
}
