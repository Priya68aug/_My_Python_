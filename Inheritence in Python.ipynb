{
 "cells": [
  {
   "cell_type": "markdown",
   "metadata": {},
   "source": [
    "Inheritence allows us to inhereit attributes and methods from a parent class to the child class."
   ]
  },
  {
   "cell_type": "markdown",
   "metadata": {},
   "source": [
    "By writing programs in this way we can reuse the code that is common for different classes and also makes our clode easier to use and maintain."
   ]
  },
  {
   "cell_type": "markdown",
   "metadata": {},
   "source": [
    "First we are creating a Parent Class by the name of Animals"
   ]
  },
  {
   "cell_type": "code",
   "execution_count": 7,
   "metadata": {},
   "outputs": [
    {
     "name": "stdout",
     "output_type": "stream",
     "text": [
      "I can bark\n",
      "I can eat.\n"
     ]
    }
   ],
   "source": [
    "class Animals():  #this is the parent class\n",
    "    def eat(self):\n",
    "        print(\"I can eat.\")\n",
    "\n",
    "class Dog(Animals):   #this is the child class  we have derived the dog class from the animals class so the dog class can access the attributes from the class animals and dog as well\n",
    "    def bark(self):\n",
    "        print(\"I can bark\")\n",
    "        \n",
    "dog1 = Dog()\n",
    "dog1.bark()\n",
    "dog1.eat()\n",
    "        "
   ]
  },
  {
   "cell_type": "code",
   "execution_count": 8,
   "metadata": {},
   "outputs": [
    {
     "name": "stdout",
     "output_type": "stream",
     "text": [
      "I can eat.\n"
     ]
    }
   ],
   "source": [
    "class cat(Animals):\n",
    "    def get_grumpy(self):\n",
    "        print(\"I get grumpy\")\n",
    "        \n",
    "cat1 = cat()\n",
    "cat1.eat()"
   ]
  },
  {
   "cell_type": "markdown",
   "metadata": {},
   "source": [
    "From this we can see that the concept of inheritence makes our code more organised and reuseable."
   ]
  },
  {
   "cell_type": "markdown",
   "metadata": {},
   "source": [
    "We are taking an example where we are creating a base class(parent class) and we will derive two classes from it."
   ]
  },
  {
   "cell_type": "code",
   "execution_count": 15,
   "metadata": {},
   "outputs": [
    {
     "name": "stdout",
     "output_type": "stream",
     "text": [
      "the perimeter of the triangle is:  15\n",
      "the perimeter of the Quadrilaterial is:  12\n"
     ]
    }
   ],
   "source": [
    "class Polygon():\n",
    "    def __init__(self, sides):\n",
    "        self.sides = sides\n",
    "        \n",
    "    def get_info(self):\n",
    "        print('the polygon is a two dimensional shape with straight lines')\n",
    "        \n",
    "    def get_perimeter(self):\n",
    "        perimeter = sum(self.sides)\n",
    "        return perimeter\n",
    "    \n",
    "class Triangle(Polygon):\n",
    "    def display_info(self):\n",
    "        print(\"the triangle is a polygon with three edges\")\n",
    "        \n",
    "class Quardilateril(Polygon):\n",
    "    def display_info(self):\n",
    "        print('the quardilaterial is a polygon with four edges')\n",
    "        \n",
    "#defining an object\n",
    "tri1 = Triangle([4,5,6])\n",
    "perimeter = tri1.get_perimeter()\n",
    "print('the perimeter of the triangle is: ', perimeter)\n",
    "\n",
    "qua = Quardilateril([1,2,4,5])\n",
    "perimeter = qua.get_perimeter()\n",
    "print(\"the perimeter of the Quadrilaterial is: \", perimeter)\n",
    "        "
   ]
  },
  {
   "cell_type": "markdown",
   "metadata": {},
   "source": [
    "# Method Overriding "
   ]
  },
  {
   "cell_type": "code",
   "execution_count": 16,
   "metadata": {},
   "outputs": [
    {
     "name": "stdout",
     "output_type": "stream",
     "text": [
      "the perimeter of the triangle is:  15\n",
      "the triangle is a polygon with three edges\n"
     ]
    }
   ],
   "source": [
    "class Polygon():\n",
    "    def __init__(self, sides):\n",
    "        self.sides = sides\n",
    "        \n",
    "    def get_info(self):\n",
    "        print('the polygon is a two dimensional shape with straight lines')\n",
    "        \n",
    "    def get_perimeter(self):\n",
    "        perimeter = sum(self.sides)\n",
    "        return perimeter\n",
    "    \n",
    "class Triangle(Polygon):\n",
    "    def display_info(self):\n",
    "        print(\"the triangle is a polygon with three edges\")\n",
    "        \n",
    "class Quardilateril(Polygon):\n",
    "    def display_info(self):\n",
    "        print('the quardilaterial is a polygon with four edges')\n",
    "        \n",
    "#defining an object\n",
    "tri1 = Triangle([4,5,6])\n",
    "perimeter = tri1.get_perimeter()\n",
    "print('the perimeter of the triangle is: ', perimeter)\n",
    "tri1.display_info()"
   ]
  },
  {
   "cell_type": "markdown",
   "metadata": {},
   "source": [
    "As we can see we have two display_info methods, one is of base class and the other is of derived class. In this case if we call the method of display_info of object tri1 the derived display_info method of the class gets called. This concept is called Method overriding.\n",
    "\n",
    "If the same method is defined in both the base class and the derived class, then the method of the derived class overrides the method of the base class."
   ]
  },
  {
   "cell_type": "code",
   "execution_count": 22,
   "metadata": {},
   "outputs": [
    {
     "name": "stdout",
     "output_type": "stream",
     "text": [
      "the perimeter of the triangle is:  15\n",
      "the triangle is a polygon with three edges\n",
      "the polygon is a two dimensional shape with straight lines\n"
     ]
    }
   ],
   "source": [
    "class Polygon():\n",
    "    def __init__(self, sides):\n",
    "        self.sides = sides\n",
    "        \n",
    "    def display_info(self):\n",
    "        print('the polygon is a two dimensional shape with straight lines')\n",
    "        \n",
    "    def get_perimeter(self):\n",
    "        perimeter = sum(self.sides)\n",
    "        return perimeter\n",
    "    \n",
    "class Triangle(Polygon):\n",
    "    def display_info(self):\n",
    "        print(\"the triangle is a polygon with three edges\")\n",
    "        #Polygon.display_info(self)    #we can access the parent method from the child class by passing such an statement.\n",
    "        super().display_info()\n",
    "        \n",
    "tri1 = Triangle([4,5,6])\n",
    "perimeter = tri1.get_perimeter()\n",
    "print('the perimeter of the triangle is: ', perimeter)\n",
    "tri1.display_info()        "
   ]
  },
  {
   "cell_type": "code",
   "execution_count": 31,
   "metadata": {},
   "outputs": [
    {
     "name": "stdout",
     "output_type": "stream",
     "text": [
      "the quardilaterial is a polygon with four edges\n",
      "the perimeter of the Quadrilateral is:  10\n"
     ]
    }
   ],
   "source": [
    "class Polygon():\n",
    "    def __init__(self, sides):\n",
    "        self.sides = sides\n",
    "        \n",
    "    def get_info(self):\n",
    "        print('the polygon is a two dimensional shape with straight lines')\n",
    "        \n",
    "    def get_perimeter(self):\n",
    "        perimeter = sum(self.sides)\n",
    "        return perimeter\n",
    "    \n",
    "class Triangle(Polygon):\n",
    "    def display_info(self):\n",
    "        print(\"the triangle is a polygon with three edges\")\n",
    "        \n",
    "class Quardilateril(Polygon):\n",
    "    def display_info(self):\n",
    "        print('the quardilaterial is a polygon with four edges')\n",
    "        \n",
    "qua = Quardilateril([1,2,3,4])\n",
    "info = qua.display_info()\n",
    "perimeter = qua.get_perimeter()\n",
    "print(\"the perimeter of the Quadrilateral is: \", perimeter)\n"
   ]
  },
  {
   "cell_type": "code",
   "execution_count": null,
   "metadata": {},
   "outputs": [],
   "source": []
  },
  {
   "cell_type": "code",
   "execution_count": null,
   "metadata": {},
   "outputs": [],
   "source": []
  }
 ],
 "metadata": {
  "kernelspec": {
   "display_name": "Python 3",
   "language": "python",
   "name": "python3"
  },
  "language_info": {
   "codemirror_mode": {
    "name": "ipython",
    "version": 3
   },
   "file_extension": ".py",
   "mimetype": "text/x-python",
   "name": "python",
   "nbconvert_exporter": "python",
   "pygments_lexer": "ipython3",
   "version": "3.8.5"
  }
 },
 "nbformat": 4,
 "nbformat_minor": 4
}
