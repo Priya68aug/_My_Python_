{
 "cells": [
  {
   "cell_type": "markdown",
   "metadata": {},
   "source": [
    "A set is a collection of items like lists and tuple, but there are few differences in them. A set in python is like a set in mathametics, it cannot contain duplicate items and theses items are not in any pariticular order. Also we can only use immutable objects in sets like strings, numbers and tuples. So a set cannot have mutable items like dictionaries and lists. \n",
    "\n",
    "1. Items in sets are not in any particular order.\n",
    "2. no dulplicate values are allowed in sets\n",
    "3. items must be immutable."
   ]
  },
  {
   "cell_type": "code",
   "execution_count": 1,
   "metadata": {},
   "outputs": [
    {
     "name": "stdout",
     "output_type": "stream",
     "text": [
      "{'dogs', 'elephant', 'tiger', 'cats'}\n"
     ]
    }
   ],
   "source": [
    "animals = {\"dogs\",\"cats\", \"tiger\",\"elephant\"}\n",
    "print(animals)"
   ]
  },
  {
   "cell_type": "markdown",
   "metadata": {},
   "source": [
    "As we can see they are not printed in any particular order that is the major reason why sets doesn't have any indexes."
   ]
  },
  {
   "cell_type": "code",
   "execution_count": 3,
   "metadata": {},
   "outputs": [
    {
     "name": "stdout",
     "output_type": "stream",
     "text": [
      "{'dogs', 'elephant', 'tiger', 'cats'}\n"
     ]
    }
   ],
   "source": [
    "#what if we give duplicate values to the sets.\n",
    "animals = {\"dogs\",\"cats\", \"tiger\",\"elephant\", \"dogs\"}\n",
    "print(animals)"
   ]
  },
  {
   "cell_type": "code",
   "execution_count": 4,
   "metadata": {},
   "outputs": [
    {
     "name": "stdout",
     "output_type": "stream",
     "text": [
      "set()\n"
     ]
    }
   ],
   "source": [
    "#we can also create an empty set.\n",
    "animals = set()\n",
    "print(animals)"
   ]
  },
  {
   "cell_type": "code",
   "execution_count": 5,
   "metadata": {},
   "outputs": [
    {
     "name": "stdout",
     "output_type": "stream",
     "text": [
      "{'dogs', 'tiger', 'cats', 'elephants'}\n"
     ]
    }
   ],
   "source": [
    "#creating a set that is not empty\n",
    "animals = set([\"dogs\",\"cats\",\"elephants\",\"tiger\"])\n",
    "print(animals)"
   ]
  },
  {
   "cell_type": "markdown",
   "metadata": {},
   "source": [
    "Sets in python are mutuable. We can add and remove items to them."
   ]
  },
  {
   "cell_type": "code",
   "execution_count": 6,
   "metadata": {},
   "outputs": [
    {
     "name": "stdout",
     "output_type": "stream",
     "text": [
      "{'dogs', 'monkey', 'cats', 'tiger', 'elephants'}\n"
     ]
    }
   ],
   "source": [
    "animals = set([\"dogs\",\"cats\",\"elephants\",\"tiger\"])\n",
    "animals.add(\"monkey\")\n",
    "print(animals)"
   ]
  },
  {
   "cell_type": "code",
   "execution_count": 8,
   "metadata": {},
   "outputs": [
    {
     "name": "stdout",
     "output_type": "stream",
     "text": [
      "{'dogs', 'leopard', 'elephant', 'cats', 'tiger', 'elephants'}\n"
     ]
    }
   ],
   "source": [
    "#adding a list to a set using an update method\n",
    "animals = set([\"dogs\",\"cats\",\"elephants\"])\n",
    "wild_animals = ['tiger','leopard','elephant']\n",
    "\n",
    "animals.update(wild_animals)\n",
    "print(animals)"
   ]
  },
  {
   "cell_type": "code",
   "execution_count": 9,
   "metadata": {},
   "outputs": [
    {
     "name": "stdout",
     "output_type": "stream",
     "text": [
      "{'dogs', 'dolphins', 'leopard', 'elephant', 'cats', 'tiger', 'elephants'}\n"
     ]
    }
   ],
   "source": [
    "#adding a list to a set using an update method\n",
    "animals = set([\"dogs\",\"cats\",\"elephants\"])\n",
    "wild_animals = ['tiger','leopard','elephant']\n",
    "\n",
    "animals.update(wild_animals,{\"dolphins\"})\n",
    "print(animals)"
   ]
  },
  {
   "cell_type": "code",
   "execution_count": 10,
   "metadata": {},
   "outputs": [
    {
     "name": "stdout",
     "output_type": "stream",
     "text": [
      "{'dogs', 'cats'}\n"
     ]
    }
   ],
   "source": [
    "#to remove the items from the set we use either discard or remove methods.\n",
    "animals = set([\"dogs\",\"cats\",\"elephants\"])\n",
    "\n",
    "animals.discard(\"elephants\")\n",
    "print(animals)"
   ]
  },
  {
   "cell_type": "code",
   "execution_count": 12,
   "metadata": {},
   "outputs": [
    {
     "name": "stdout",
     "output_type": "stream",
     "text": [
      "{'dogs', 'cats'}\n"
     ]
    }
   ],
   "source": [
    "animals = set([\"dogs\",\"cats\",\"elephants\"])\n",
    "\n",
    "animals.remove(\"elephants\")\n",
    "print(animals)"
   ]
  },
  {
   "cell_type": "markdown",
   "metadata": {},
   "source": [
    "As we can see both return the same results of removing the item from the set, but there is a major difference between them when use discard method to remove and \n",
    "item from the set which is not present in the set it returns the value and also no error is thrown, where as when we use remove item to remove any item which is not there in the set it throws an error."
   ]
  },
  {
   "cell_type": "code",
   "execution_count": 13,
   "metadata": {},
   "outputs": [
    {
     "ename": "KeyError",
     "evalue": "'ferrat'",
     "output_type": "error",
     "traceback": [
      "\u001b[1;31m---------------------------------------------------------------------------\u001b[0m",
      "\u001b[1;31mKeyError\u001b[0m                                  Traceback (most recent call last)",
      "\u001b[1;32m<ipython-input-13-e9ab05602df5>\u001b[0m in \u001b[0;36m<module>\u001b[1;34m\u001b[0m\n\u001b[0;32m      1\u001b[0m \u001b[0manimals\u001b[0m \u001b[1;33m=\u001b[0m \u001b[0mset\u001b[0m\u001b[1;33m(\u001b[0m\u001b[1;33m[\u001b[0m\u001b[1;34m\"dogs\"\u001b[0m\u001b[1;33m,\u001b[0m\u001b[1;34m\"cats\"\u001b[0m\u001b[1;33m,\u001b[0m\u001b[1;34m\"elephants\"\u001b[0m\u001b[1;33m,\u001b[0m\u001b[1;34m\"tiger\"\u001b[0m\u001b[1;33m]\u001b[0m\u001b[1;33m)\u001b[0m\u001b[1;33m\u001b[0m\u001b[1;33m\u001b[0m\u001b[0m\n\u001b[1;32m----> 2\u001b[1;33m \u001b[0manimals\u001b[0m\u001b[1;33m.\u001b[0m\u001b[0mremove\u001b[0m\u001b[1;33m(\u001b[0m\u001b[1;34m\"ferrat\"\u001b[0m\u001b[1;33m)\u001b[0m\u001b[1;33m\u001b[0m\u001b[1;33m\u001b[0m\u001b[0m\n\u001b[0m\u001b[0;32m      3\u001b[0m \u001b[0mprint\u001b[0m\u001b[1;33m(\u001b[0m\u001b[0manimals\u001b[0m\u001b[1;33m)\u001b[0m\u001b[1;33m\u001b[0m\u001b[1;33m\u001b[0m\u001b[0m\n",
      "\u001b[1;31mKeyError\u001b[0m: 'ferrat'"
     ]
    }
   ],
   "source": [
    "animals = set([\"dogs\",\"cats\",\"elephants\",\"tiger\"])\n",
    "animals.remove(\"ferrat\")\n",
    "print(animals)"
   ]
  },
  {
   "cell_type": "code",
   "execution_count": 14,
   "metadata": {},
   "outputs": [
    {
     "name": "stdout",
     "output_type": "stream",
     "text": [
      "{'dogs', 'tiger', 'cats', 'elephants'}\n"
     ]
    }
   ],
   "source": [
    "animals = set([\"dogs\",\"cats\",\"elephants\",\"tiger\"])\n",
    "animals.discard(\"ferrat\")\n",
    "print(animals)"
   ]
  },
  {
   "cell_type": "code",
   "execution_count": 15,
   "metadata": {},
   "outputs": [
    {
     "name": "stdout",
     "output_type": "stream",
     "text": [
      "set()\n"
     ]
    }
   ],
   "source": [
    "#we can also use clear methond to clear the entire  set\n",
    "animals = set([\"dogs\",\"cats\",\"elephants\",\"tiger\"])\n",
    "animals.clear()\n",
    "print(animals)"
   ]
  },
  {
   "cell_type": "code",
   "execution_count": 16,
   "metadata": {},
   "outputs": [
    {
     "name": "stdout",
     "output_type": "stream",
     "text": [
      "True\n"
     ]
    }
   ],
   "source": [
    "animals = set([\"dogs\",\"cats\",\"elephants\",\"tiger\"])\n",
    "print(\"tiger\" in animals)\n"
   ]
  },
  {
   "cell_type": "code",
   "execution_count": 17,
   "metadata": {},
   "outputs": [
    {
     "name": "stdout",
     "output_type": "stream",
     "text": [
      "False\n"
     ]
    }
   ],
   "source": [
    "animals = set([\"dogs\",\"cats\",\"elephants\",\"tiger\"])\n",
    "print(\"ferret\" in animals)"
   ]
  },
  {
   "cell_type": "code",
   "execution_count": 18,
   "metadata": {},
   "outputs": [
    {
     "name": "stdout",
     "output_type": "stream",
     "text": [
      "dogs\n",
      "tiger\n",
      "cats\n",
      "elephants\n"
     ]
    }
   ],
   "source": [
    "animals = set([\"dogs\",\"cats\",\"elephants\",\"tiger\"])\n",
    "\n",
    "for i in animals:\n",
    "    print(i)"
   ]
  },
  {
   "cell_type": "code",
   "execution_count": 20,
   "metadata": {},
   "outputs": [
    {
     "name": "stdout",
     "output_type": "stream",
     "text": [
      "{'elephant', 'dog', 'lion', 'cat', 'tiger'}\n"
     ]
    }
   ],
   "source": [
    "#operations in sets\n",
    "domestic_animals  = {\"dog\",\"cat\",\"elephant\"}\n",
    "wild_animals = {\"tiger\",\"lion\",\"elephant\"}\n",
    "\n",
    "animals = domestic_animals.union(wild_animals)\n",
    "print(animals)"
   ]
  },
  {
   "cell_type": "code",
   "execution_count": 21,
   "metadata": {},
   "outputs": [
    {
     "name": "stdout",
     "output_type": "stream",
     "text": [
      "{'elephant', 'dog', 'lion', 'cat', 'tiger'}\n"
     ]
    }
   ],
   "source": [
    "#operations in sets\n",
    "domestic_animals  = {\"dog\",\"cat\",\"elephant\"}\n",
    "wild_animals = {\"tiger\",\"lion\",\"elephant\"}\n",
    "\n",
    "animals = wild_animals.union(domestic_animals)\n",
    "print(animals)"
   ]
  },
  {
   "cell_type": "code",
   "execution_count": 22,
   "metadata": {},
   "outputs": [
    {
     "name": "stdout",
     "output_type": "stream",
     "text": [
      "{'elephant', 'dog', 'lion', 'cat', 'tiger'}\n"
     ]
    }
   ],
   "source": [
    "#operations in sets\n",
    "domestic_animals  = {\"dog\",\"cat\",\"elephant\"}\n",
    "wild_animals = {\"tiger\",\"lion\",\"elephant\"}\n",
    "\n",
    "animals = wild_animals | domestic_animals\n",
    "print(animals)"
   ]
  },
  {
   "cell_type": "code",
   "execution_count": 23,
   "metadata": {},
   "outputs": [
    {
     "name": "stdout",
     "output_type": "stream",
     "text": [
      "{'elephant'}\n"
     ]
    }
   ],
   "source": [
    "domestic_animals  = {\"dog\",\"cat\",\"elephant\"}\n",
    "wild_animals = {\"tiger\",\"lion\",\"elephant\"}\n",
    "\n",
    "animals = wild_animals.intersection(domestic_animals)\n",
    "print(animals)"
   ]
  },
  {
   "cell_type": "code",
   "execution_count": 24,
   "metadata": {},
   "outputs": [
    {
     "name": "stdout",
     "output_type": "stream",
     "text": [
      "{'elephant'}\n"
     ]
    }
   ],
   "source": [
    "domestic_animals  = {\"dog\",\"cat\",\"elephant\"}\n",
    "wild_animals = {\"tiger\",\"lion\",\"elephant\"}\n",
    "\n",
    "animals = wild_animals & domestic_animals\n",
    "print(animals)"
   ]
  },
  {
   "cell_type": "code",
   "execution_count": 25,
   "metadata": {},
   "outputs": [
    {
     "name": "stdout",
     "output_type": "stream",
     "text": [
      "1. {'elephant', 'dog', 'cat', 'tiger'}\n"
     ]
    }
   ],
   "source": [
    "#programming task\n",
    "animals = {\"tiger\",\"cat\",\"dog\",\"elephant\",\"dog\"}\n",
    "print(\"1.\", animals)"
   ]
  },
  {
   "cell_type": "code",
   "execution_count": 26,
   "metadata": {},
   "outputs": [
    {
     "name": "stdout",
     "output_type": "stream",
     "text": [
      "3. {'elephant', 'tiger'}\n"
     ]
    }
   ],
   "source": [
    "animals = {\"tiger\",\"cat\",\"dog\",\"elephant\",\"dog\"}\n",
    "animals.remove(\"cat\")\n",
    "animals.remove(\"dog\")\n",
    "print(\"3.\", animals)"
   ]
  },
  {
   "cell_type": "code",
   "execution_count": 27,
   "metadata": {},
   "outputs": [
    {
     "name": "stdout",
     "output_type": "stream",
     "text": [
      "4. {'elephant', 'snake', 'tiger'}\n"
     ]
    }
   ],
   "source": [
    "animals.add(\"snake\")\n",
    "print(\"4.\", animals)"
   ]
  },
  {
   "cell_type": "code",
   "execution_count": 28,
   "metadata": {},
   "outputs": [
    {
     "name": "stdout",
     "output_type": "stream",
     "text": [
      "4. {10, 5}\n"
     ]
    }
   ],
   "source": [
    "result = {1,5,10} & {100,10,3,5}\n",
    "print(\"4.\",result)"
   ]
  },
  {
   "cell_type": "code",
   "execution_count": null,
   "metadata": {},
   "outputs": [],
   "source": []
  }
 ],
 "metadata": {
  "kernelspec": {
   "display_name": "Python 3",
   "language": "python",
   "name": "python3"
  },
  "language_info": {
   "codemirror_mode": {
    "name": "ipython",
    "version": 3
   },
   "file_extension": ".py",
   "mimetype": "text/x-python",
   "name": "python",
   "nbconvert_exporter": "python",
   "pygments_lexer": "ipython3",
   "version": "3.8.5"
  }
 },
 "nbformat": 4,
 "nbformat_minor": 4
}
