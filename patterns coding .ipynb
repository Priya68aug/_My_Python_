{
 "cells": [
  {
   "cell_type": "code",
   "execution_count": 13,
   "metadata": {},
   "outputs": [
    {
     "name": "stdout",
     "output_type": "stream",
     "text": [
      "* \r\n",
      "* * \r\n",
      "* * * \r\n",
      "* * * * \r\n",
      "* * * * * \r\n",
      "* * * * * * \r\n",
      "* * * * * * * \r\n",
      "* * * * * * * * \r\n",
      "* * * * * * * * * \r\n",
      "* * * * * * * * * * \r\n"
     ]
    }
   ],
   "source": [
    "#we will write a code for the pattern coding in python\n",
    "def pypattern(n):\n",
    "    \n",
    "    for i in range(0, n): # this is the outer loop which handles the number of rows, n is in our example\n",
    "        \n",
    "        for j in range(0, i+1):   # this loop os for the number of columns.\n",
    "            print(\"* \", end = \"\") #it is for printing stars.\n",
    "            \n",
    "        print(\"\\r\")    # for the end line\n",
    "#driver code        \n",
    "n = 10\n",
    "pypattern(n)"
   ]
  },
  {
   "cell_type": "markdown",
   "metadata": {},
   "source": [
    "# For practice I will do it with a different special character.\n"
   ]
  },
  {
   "cell_type": "code",
   "execution_count": 6,
   "metadata": {},
   "outputs": [
    {
     "name": "stdout",
     "output_type": "stream",
     "text": [
      "%  \r\n",
      "%  %  \r\n",
      "%  %  %  \r\n",
      "%  %  %  %  \r\n",
      "%  %  %  %  %  \r\n"
     ]
    }
   ],
   "source": [
    "def pypattern(n):\n",
    "    \n",
    "    for i in range(0,n):  #outer loop for number of rows.\n",
    "        \n",
    "        for p in range(0, i+1):  #inner loop for the number of columns.\n",
    "            \n",
    "            \n",
    "            print(\"% \", end= \" \") #printing the special character.\n",
    "            \n",
    "        print(\"\\r\")    #for the end line.\n",
    "            \n",
    "# driver code.\n",
    "\n",
    "n = 5\n",
    "pypattern(n)\n",
    "        "
   ]
  },
  {
   "cell_type": "markdown",
   "metadata": {},
   "source": [
    "we can achieve this with list function as well."
   ]
  },
  {
   "cell_type": "code",
   "execution_count": 14,
   "metadata": {},
   "outputs": [
    {
     "name": "stdout",
     "output_type": "stream",
     "text": [
      "*\n",
      "**\n",
      "***\n",
      "****\n",
      "*****\n",
      "******\n",
      "*******\n",
      "********\n"
     ]
    }
   ],
   "source": [
    "def pypattern(n):\n",
    "    mylist=[]\n",
    "    for i in range(1,n+1):\n",
    "        mylist.append(\"*\"*i)\n",
    "    print(\"\\n\".join(mylist))\n",
    "  #driver code\n",
    "\n",
    "n = 8\n",
    "pypattern(n)"
   ]
  },
  {
   "cell_type": "markdown",
   "metadata": {},
   "source": [
    "# # we will practice this with a different symbol."
   ]
  },
  {
   "cell_type": "code",
   "execution_count": 12,
   "metadata": {},
   "outputs": [
    {
     "name": "stdout",
     "output_type": "stream",
     "text": [
      "+\n",
      "\n",
      "++\n",
      "\n",
      "+++\n",
      "\n",
      "++++\n",
      "\n",
      "+++++\n",
      "\n"
     ]
    }
   ],
   "source": [
    "def pypattern(x):\n",
    "    zlist = []\n",
    "    for i in range(1,x+1):\n",
    "        print(\"+\"*i)\n",
    "        print(\"\\r\".join(zlist))\n",
    "#driver code\n",
    "x = 5\n",
    "pypattern(x)\n",
    "        "
   ]
  },
  {
   "cell_type": "code",
   "execution_count": 1,
   "metadata": {},
   "outputs": [
    {
     "name": "stdout",
     "output_type": "stream",
     "text": [
      "C:\\Users\\priya\n"
     ]
    }
   ],
   "source": [
    "cd"
   ]
  },
  {
   "cell_type": "code",
   "execution_count": 4,
   "metadata": {},
   "outputs": [
    {
     "name": "stdout",
     "output_type": "stream",
     "text": [
      "#\n",
      "##\n",
      "###\n",
      "####\n",
      "#####\n"
     ]
    }
   ],
   "source": [
    "def mypat(x):\n",
    "    mah_list = []\n",
    "    \n",
    "    for i in range(1,x+1):\n",
    "        mah_list.append(\"#\"*i)\n",
    "        print(\"\\r\".join(mah_list))\n",
    "        \n",
    "#driver code\n",
    "x = 5\n",
    "mypat(x)"
   ]
  },
  {
   "cell_type": "markdown",
   "metadata": {},
   "source": [
    "Now how to do the reverse of it."
   ]
  },
  {
   "cell_type": "code",
   "execution_count": 15,
   "metadata": {},
   "outputs": [
    {
     "name": "stdout",
     "output_type": "stream",
     "text": [
      "        * \r\n",
      "      * * \r\n",
      "    * * * \r\n",
      "  * * * * \r\n",
      "* * * * * \r\n"
     ]
    }
   ],
   "source": [
    "# Python 3.x code to demonstrate star pattern\n",
    "\n",
    "# Function to demonstrate printing pattern\n",
    "def pypart2(n):\n",
    "\t\n",
    "\t# number of spaces\n",
    "\tk = 2*n - 2\n",
    "\n",
    "\t# outer loop to handle number of rows\n",
    "\tfor i in range(0, n):\n",
    "\t\n",
    "\t\t# inner loop to handle number spaces\n",
    "\t\t# values changing acc. to requirement\n",
    "\t\tfor j in range(0, k):\n",
    "\t\t\tprint(end=\" \")\n",
    "\t\n",
    "\t\t# decrementing k after each loop\n",
    "\t\tk = k - 2\n",
    "\t\n",
    "\t\t# inner loop to handle number of columns\n",
    "\t\t# values changing acc. to outer loop\n",
    "\t\tfor j in range(0, i+1):\n",
    "\t\t\n",
    "\t\t\t# printing stars\n",
    "\t\t\tprint(\"* \", end=\"\")\n",
    "\t\n",
    "\t\t# ending line after each row\n",
    "\t\tprint(\"\\r\")\n",
    "\n",
    "# Driver Code\n",
    "n = 5\n",
    "pypart2(n)\n"
   ]
  },
  {
   "cell_type": "markdown",
   "metadata": {},
   "source": [
    "# printing triangle pyramid"
   ]
  },
  {
   "cell_type": "code",
   "execution_count": 18,
   "metadata": {},
   "outputs": [
    {
     "name": "stdout",
     "output_type": "stream",
     "text": [
      "    *= \n",
      "\n",
      "   *= *= \n",
      "\n",
      "  *= *= *= \n",
      "\n",
      " *= *= *= *= \n",
      "\n",
      "*= *= *= *= *= \n",
      "\n"
     ]
    }
   ],
   "source": [
    "def triangle(n):\n",
    "    \n",
    "    k = n - 1\n",
    "     \n",
    "    for i in range(0 , n):\n",
    "        \n",
    "        for j in range (0, k):\n",
    "            print(end = \" \")\n",
    "            \n",
    "        k = k - 1 \n",
    "        \n",
    "        #inner loop to handle the number of columns.\n",
    "        for i in range(0, i+1):\n",
    "            print(\"*=\", end = \" \")\n",
    "            \n",
    "            #end line after each row.\n",
    "            \n",
    "        print(\"\\n\")\n",
    "        \n",
    "#driver code.\n",
    "n = 5\n",
    "triangle(n)\n",
    "        \n",
    "        "
   ]
  },
  {
   "cell_type": "markdown",
   "metadata": {},
   "source": [
    "Number patterns"
   ]
  },
  {
   "cell_type": "code",
   "execution_count": 21,
   "metadata": {},
   "outputs": [
    {
     "name": "stdout",
     "output_type": "stream",
     "text": [
      "1 \r\n",
      "1 2 \r\n",
      "1 2 3 \r\n",
      "1 2 3 4 \r\n",
      "1 2 3 4 5 \r\n",
      "1 2 3 4 5 6 \r\n",
      "1 2 3 4 5 6 7 \r\n"
     ]
    }
   ],
   "source": [
    "def numpat(n):\n",
    "    num = 1  #starting number. \n",
    "    \n",
    "    for i in range(0, n):\n",
    "        \n",
    "        num = 1\n",
    "        \n",
    "        for j in range(0, i + 1):\n",
    "            print(num, end = \" \")\n",
    "            \n",
    "            num = num + 1\n",
    "            \n",
    "        print(\"\\r\")\n",
    "            \n",
    "#driver code\n",
    "n = 7\n",
    "numpat(n)"
   ]
  },
  {
   "cell_type": "markdown",
   "metadata": {},
   "source": [
    "Continuous Numbers will be printed. "
   ]
  },
  {
   "cell_type": "code",
   "execution_count": 24,
   "metadata": {},
   "outputs": [
    {
     "name": "stdout",
     "output_type": "stream",
     "text": [
      "1 \r\n",
      "2 3 \r\n",
      "4 5 6 \r\n",
      "7 8 9 10 \r\n",
      "11 12 13 14 15 \r\n"
     ]
    }
   ],
   "source": [
    "def Continuous(n):\n",
    "    num = 1\n",
    "    \n",
    "    for i in range (0, n):\n",
    "        \n",
    "        for j in range(0, i + 1):\n",
    "            print(num, end =\" \")\n",
    "            \n",
    "            num = num + 1\n",
    "            \n",
    "        print(\"\\r\")\n",
    "        \n",
    "#driver code.\n",
    "n = 5\n",
    "Continuous(n)\n",
    "            \n",
    "            \n",
    "            "
   ]
  },
  {
   "cell_type": "markdown",
   "metadata": {},
   "source": [
    "Alphabets pattern "
   ]
  },
  {
   "cell_type": "code",
   "execution_count": 28,
   "metadata": {},
   "outputs": [
    {
     "name": "stdout",
     "output_type": "stream",
     "text": [
      "A \r\n",
      "B B \r\n",
      "C C C \r\n",
      "D D D D \r\n",
      "E E E E E \r\n"
     ]
    }
   ],
   "source": [
    "def character(z):\n",
    "    \n",
    "    num = 65 #from the Ascii table the value of a = 65. so we will give the starting value to be A.\n",
    "    \n",
    "    for i in range(0, z):\n",
    "        \n",
    "        for j in range(0, i+1):\n",
    "            \n",
    "            ch = chr(num) #chr is an built in function.\n",
    "            \n",
    "            print(ch, end = \" \")\n",
    "            \n",
    "        num = num+ 1   #since we want it to be incremental after each iteration.\n",
    "            \n",
    "        print(\"\\r\") #printing all of the above code.\n",
    "#driver code.\n",
    "\n",
    "z = 5\n",
    "character(z)\n",
    "        \n",
    "        \n",
    "        \n",
    "        #indentation is the most important thing when it come to python."
   ]
  },
  {
   "cell_type": "code",
   "execution_count": 27,
   "metadata": {},
   "outputs": [],
   "source": [
    "?chr"
   ]
  },
  {
   "cell_type": "markdown",
   "metadata": {},
   "source": [
    "Doing the same for the continuous "
   ]
  },
  {
   "cell_type": "code",
   "execution_count": 36,
   "metadata": {},
   "outputs": [
    {
     "name": "stdout",
     "output_type": "stream",
     "text": [
      "A \r\n",
      "B C \r\n",
      "D E F \r\n",
      "G H I J \r\n",
      "K L M N O \r\n",
      "P Q R S T U \r\n",
      "V W X Y Z [ \\ \r\n"
     ]
    }
   ],
   "source": [
    "def cont_alp(n):\n",
    "    \n",
    "    num = 65\n",
    "    for i in range(0, n):\n",
    "        for j in range(0, i + 1):\n",
    "            ch = chr(num)\n",
    "            print(ch, end = \" \")\n",
    "            \n",
    "            num = num +1\n",
    "            \n",
    "        print(\"\\r\")\n",
    "            \n",
    "#driver code\n",
    "n = 7\n",
    "cont_alp(n)"
   ]
  },
  {
   "cell_type": "code",
   "execution_count": null,
   "metadata": {},
   "outputs": [],
   "source": []
  }
 ],
 "metadata": {
  "kernelspec": {
   "display_name": "Python 3",
   "language": "python",
   "name": "python3"
  },
  "language_info": {
   "codemirror_mode": {
    "name": "ipython",
    "version": 3
   },
   "file_extension": ".py",
   "mimetype": "text/x-python",
   "name": "python",
   "nbconvert_exporter": "python",
   "pygments_lexer": "ipython3",
   "version": "3.8.5"
  }
 },
 "nbformat": 4,
 "nbformat_minor": 4
}
