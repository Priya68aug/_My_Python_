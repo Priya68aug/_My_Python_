{
 "cells": [
  {
   "cell_type": "markdown",
   "metadata": {},
   "source": [
    "Different ways to pass arguements.\n",
    "Positional arguements are passed based on their positions."
   ]
  },
  {
   "cell_type": "code",
   "execution_count": 1,
   "metadata": {},
   "outputs": [
    {
     "name": "stdout",
     "output_type": "stream",
     "text": [
      "12\n"
     ]
    }
   ],
   "source": [
    "def add_num(s1,s2):\n",
    "    addition = s1+s2\n",
    "    return(addition)\n",
    "\n",
    "num1 = 5\n",
    "num2 = 7\n",
    "product_of_addition = add_num(num1,num2)\n",
    "print(product_of_addition)"
   ]
  },
  {
   "cell_type": "markdown",
   "metadata": {},
   "source": [
    "In the example above s1 will take num1 value and s2 will take num2 value so these are called positional arguements."
   ]
  },
  {
   "cell_type": "markdown",
   "metadata": {},
   "source": [
    "# Default Arguements."
   ]
  },
  {
   "cell_type": "code",
   "execution_count": 2,
   "metadata": {},
   "outputs": [
    {
     "name": "stdout",
     "output_type": "stream",
     "text": [
      "1004\n"
     ]
    }
   ],
   "source": [
    "def add_num(s1 = 100, s2 = 1000):\n",
    "    add = s1 + s2\n",
    "    return(add)\n",
    "\n",
    "num1 = 4\n",
    "num2 = 5\n",
    "product = add_num(num1)\n",
    "print(product)\n",
    "\n",
    "\n"
   ]
  },
  {
   "cell_type": "markdown",
   "metadata": {},
   "source": [
    "In the above we have stated the default values to the s1 and s2, if in any case we did not give provide the value to these parameters or we just provide a single value the function by default will take the default value assigned."
   ]
  },
  {
   "cell_type": "code",
   "execution_count": 14,
   "metadata": {},
   "outputs": [
    {
     "name": "stdout",
     "output_type": "stream",
     "text": [
      "My name is:  ziara\n",
      "the message is:  I am fine\n"
     ]
    }
   ],
   "source": [
    "def greeting(name, message):\n",
    "    print(\"My name is: \", name)\n",
    "    print(\"the message is: \", message)\n",
    "    \n",
    "greeting(\"Priya\", \"howz it going\")\n",
    "greeting(message = \"I am fine\", name=\"ziara\")\n"
   ]
  },
  {
   "cell_type": "markdown",
   "metadata": {},
   "source": [
    "in the above example what we have passed is called as keyword arguements."
   ]
  },
  {
   "cell_type": "markdown",
   "metadata": {},
   "source": [
    "Things to be remembered about arguements:\n",
    "1. the arguements that are passed based on theeir positions are known as positiinal arguements.\n",
    "2. If we give names to the arguements, they are called as keywords arguements. The order of the arguements does not matter for keyword arguements.\n",
    "3. we can also provide default values to arguements. These default values are called if we don not pass arguements during the function call."
   ]
  },
  {
   "cell_type": "code",
   "execution_count": 45,
   "metadata": {},
   "outputs": [
    {
     "name": "stdout",
     "output_type": "stream",
     "text": [
      "*\n",
      "\n",
      "**\n",
      "\n",
      "***\n",
      "\n",
      "****\n",
      "\n",
      "*****\n",
      "\n"
     ]
    }
   ],
   "source": [
    "#taking default values for numerical problem \n",
    "def tri(x):\n",
    "    #num = 0\n",
    "    zeep = []\n",
    "    \n",
    "    for i in range(1,x+1):\n",
    "        print(\"*\"*i)\n",
    "        print(\"\\r\".join(zeep))\n",
    "        \n",
    "        \n",
    "\n",
    "tri(5)"
   ]
  },
  {
   "cell_type": "code",
   "execution_count": 52,
   "metadata": {},
   "outputs": [
    {
     "name": "stdout",
     "output_type": "stream",
     "text": [
      "x\n",
      "\n",
      "xx\n",
      "\n",
      "xxx\n",
      "\n",
      "xxxx\n",
      "\n",
      "xxxxx\n",
      "\n"
     ]
    }
   ],
   "source": [
    "def tri(x):\n",
    "    empty = []\n",
    "    for i in range(1,x + 1):\n",
    "        print(\"x\"*i)\n",
    "        print(\"\\s\".join(empty))\n",
    "x= 5\n",
    "product = tri(x)"
   ]
  },
  {
   "cell_type": "code",
   "execution_count": null,
   "metadata": {},
   "outputs": [],
   "source": []
  }
 ],
 "metadata": {
  "kernelspec": {
   "display_name": "Python 3",
   "language": "python",
   "name": "python3"
  },
  "language_info": {
   "codemirror_mode": {
    "name": "ipython",
    "version": 3
   },
   "file_extension": ".py",
   "mimetype": "text/x-python",
   "name": "python",
   "nbconvert_exporter": "python",
   "pygments_lexer": "ipython3",
   "version": "3.8.5"
  }
 },
 "nbformat": 4,
 "nbformat_minor": 4
}
