{
 "cells": [
  {
   "cell_type": "markdown",
   "metadata": {},
   "source": [
    "1. if else blocks \n",
    "2. for loops \n",
    "3. while loops\n",
    "4. list comprehension."
   ]
  },
  {
   "cell_type": "code",
   "execution_count": 12,
   "metadata": {},
   "outputs": [
    {
     "name": "stdout",
     "output_type": "stream",
     "text": [
      "x is smaller than 10 by -5 units\n"
     ]
    }
   ],
   "source": [
    "x = 15\n",
    "if x < 10:\n",
    "    print(\"x is larger than 10\")\n",
    "    \n",
    "else:\n",
    "    difference = 10-x\n",
    "    print(\"x is smaller than 10 by \" + str(difference)+ \" units\")\n"
   ]
  },
  {
   "cell_type": "code",
   "execution_count": 16,
   "metadata": {},
   "outputs": [
    {
     "name": "stdout",
     "output_type": "stream",
     "text": [
      "It is greater than 10\n",
      "it is smaller than -10 units\n",
      "it is smaller than -20 units\n",
      "it is smaller than -30 units\n",
      "it is smaller than -40 units\n",
      "it is smaller than -50 units\n",
      "it is smaller than -60 units\n",
      "it is smaller than -70 units\n",
      "it is smaller than -80 units\n",
      "it is smaller than -90 units\n"
     ]
    }
   ],
   "source": [
    "#for loop for list.\n",
    "element = [10,20,30,40,50,60,70,80,90,100]\n",
    "for i in element:\n",
    "    if i < 20:\n",
    "        print(\"It is greater than 10\")\n",
    "    else:\n",
    "        diff = 10-i\n",
    "        print(\"it is smaller than \"+str(diff)+\" units\")"
   ]
  },
  {
   "cell_type": "code",
   "execution_count": 19,
   "metadata": {},
   "outputs": [
    {
     "name": "stdout",
     "output_type": "stream",
     "text": [
      "the value is smaller than 5\n",
      "the value is smaller than 5\n",
      "its greater than 0units\n",
      "its greater than -2units\n",
      "its greater than -4units\n",
      "its greater than -6units\n",
      "its greater than -8units\n",
      "its greater than -10units\n",
      "its greater than -12units\n",
      "its greater than -14units\n",
      "its greater than -16units\n"
     ]
    }
   ],
   "source": [
    "x = [1,3,5,7,9,11,13,15,17,19,21]\n",
    "for i in x:\n",
    "    if i<5:\n",
    "        print(\"the value is smaller than 5\")\n",
    "        \n",
    "    else:\n",
    "        difference = 5-i\n",
    "        print(\"its greater than \" + str(difference)+ \"units\")\n",
    "        "
   ]
  },
  {
   "cell_type": "code",
   "execution_count": 31,
   "metadata": {},
   "outputs": [
    {
     "name": "stdout",
     "output_type": "stream",
     "text": [
      "['the', 'big', 'theory', 'sheldon', 'cooper', 'leonard', 'penny']\n",
      "eureka\n",
      "['the', 'big', 'theory', 'sheldon', 'cooper', 'leonard', 'penny']\n",
      "['the', 'big', 'theory', 'sheldon', 'cooper', 'leonard', 'penny']\n",
      "['the', 'big', 'theory', 'sheldon', 'cooper', 'leonard', 'penny']\n",
      "['the', 'big', 'theory', 'sheldon', 'cooper', 'leonard', 'penny']\n",
      "['the', 'big', 'theory', 'sheldon', 'cooper', 'leonard', 'penny']\n"
     ]
    }
   ],
   "source": [
    "z = [\"the\",\"big\",\"theory\",\"sheldon\",\"cooper\",\"leonard\",\"penny\"]\n",
    "for i in z:\n",
    "    if i ==\"big\":\n",
    "        print(\"eureka\")\n",
    "    \n",
    "    else:\n",
    "        words = z\n",
    "        print(words)"
   ]
  },
  {
   "cell_type": "code",
   "execution_count": 35,
   "metadata": {},
   "outputs": [],
   "source": [
    "cities = [\"banglore\",\"karnataka\",\"austrialia\",\"newzeland\",\"india\",\"hawai\"]"
   ]
  },
  {
   "cell_type": "code",
   "execution_count": 36,
   "metadata": {},
   "outputs": [
    {
     "data": {
      "text/plain": [
       "[8, 9, 10, 9, 5, 5]"
      ]
     },
     "execution_count": 36,
     "metadata": {},
     "output_type": "execute_result"
    }
   ],
   "source": [
    "char_name = [ ]\n",
    "for city in cities:\n",
    "    num_char = len(city)\n",
    "    char_name.append(num_char)\n",
    "\n",
    "char_name    \n",
    "    "
   ]
  },
  {
   "cell_type": "code",
   "execution_count": 39,
   "metadata": {},
   "outputs": [
    {
     "name": "stdout",
     "output_type": "stream",
     "text": [
      "5\n",
      "4\n",
      "5\n",
      "4\n",
      "4\n",
      "number of throws:  5\n",
      "win\n"
     ]
    }
   ],
   "source": [
    "# building a game.\n",
    "mysum = 0\n",
    "throws = 0\n",
    "\n",
    "import numpy as np\n",
    "\n",
    "while mysum <= 20:\n",
    "    \n",
    "    throw = np.random.randint(high = 6, low = 1)\n",
    "    \n",
    "    mysum += throw\n",
    "    #basically writing mysum = mysum + throw\n",
    "    throws +=1\n",
    "    \n",
    "    print(throw)\n",
    "print(\"number of throws: \",throws)\n",
    "\n",
    "if throws>6:\n",
    "    print(\"lose\")\n",
    "    \n",
    "else:\n",
    "    print(\"win\")"
   ]
  },
  {
   "cell_type": "code",
   "execution_count": null,
   "metadata": {},
   "outputs": [],
   "source": []
  },
  {
   "cell_type": "code",
   "execution_count": null,
   "metadata": {},
   "outputs": [],
   "source": []
  }
 ],
 "metadata": {
  "kernelspec": {
   "display_name": "Python 3",
   "language": "python",
   "name": "python3"
  },
  "language_info": {
   "codemirror_mode": {
    "name": "ipython",
    "version": 3
   },
   "file_extension": ".py",
   "mimetype": "text/x-python",
   "name": "python",
   "nbconvert_exporter": "python",
   "pygments_lexer": "ipython3",
   "version": "3.8.5"
  }
 },
 "nbformat": 4,
 "nbformat_minor": 4
}
