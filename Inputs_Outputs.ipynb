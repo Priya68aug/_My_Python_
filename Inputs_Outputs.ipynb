{
 "cells": [
  {
   "cell_type": "code",
   "execution_count": 1,
   "metadata": {},
   "outputs": [
    {
     "name": "stdout",
     "output_type": "stream",
     "text": [
      "Priya\n",
      "Priya\n"
     ]
    }
   ],
   "source": [
    "name = input()\n",
    "print(name)"
   ]
  },
  {
   "cell_type": "code",
   "execution_count": 7,
   "metadata": {},
   "outputs": [
    {
     "name": "stdout",
     "output_type": "stream",
     "text": [
      "Enter number : 52\n",
      "<class 'int'>\n"
     ]
    }
   ],
   "source": [
    "num =int( input(\"Enter number : \"))\n",
    "#num = int(num) #rather than this we can wrap the first statement into int\n",
    "print(type(num))"
   ]
  },
  {
   "cell_type": "code",
   "execution_count": 9,
   "metadata": {},
   "outputs": [
    {
     "name": "stdout",
     "output_type": "stream",
     "text": [
      "Enter number : 78.5\n",
      "<class 'float'>\n"
     ]
    }
   ],
   "source": [
    "num =float( input(\"Enter number : \"))\n",
    "#num = int(num) #rather than this we can wrap the first statement into int\n",
    "print(type(num))"
   ]
  },
  {
   "cell_type": "code",
   "execution_count": 11,
   "metadata": {},
   "outputs": [
    {
     "name": "stdout",
     "output_type": "stream",
     "text": [
      "Enter your favourite sea: arbian sea\n",
      "<class 'str'>\n"
     ]
    }
   ],
   "source": [
    "sea = input(\"Enter your favourite sea: \")\n",
    "print(type(sea))"
   ]
  },
  {
   "cell_type": "code",
   "execution_count": 12,
   "metadata": {},
   "outputs": [
    {
     "name": "stdout",
     "output_type": "stream",
     "text": [
      "enter the standard: master's\n",
      "the standard is :  master's\n"
     ]
    }
   ],
   "source": [
    "standard = input(\"enter the standard: \")\n",
    "print(\"the standard is : \", standard)"
   ]
  },
  {
   "cell_type": "code",
   "execution_count": 1,
   "metadata": {},
   "outputs": [
    {
     "name": "stdout",
     "output_type": "stream",
     "text": [
      "enter the zodiac: leo\n",
      "leo\n"
     ]
    }
   ],
   "source": [
    "zodia_sign = input(\"enter the zodiac: \")\n",
    "print(zodia_sign)"
   ]
  },
  {
   "cell_type": "code",
   "execution_count": 2,
   "metadata": {},
   "outputs": [
    {
     "name": "stdout",
     "output_type": "stream",
     "text": [
      "my zodiac sign is:  leo\n"
     ]
    }
   ],
   "source": [
    "zodic = \"leo\"\n",
    "print(\"my zodiac sign is: \", zodic)"
   ]
  },
  {
   "cell_type": "markdown",
   "metadata": {},
   "source": [
    "# how to use comments in python"
   ]
  },
  {
   "cell_type": "code",
   "execution_count": null,
   "metadata": {},
   "outputs": [],
   "source": [
    "# thia \n",
    "# ia \n",
    "# A \n",
    "# comment \n",
    "# and \n",
    "# i \n",
    "# hope \n",
    "# you \n",
    "# ignore"
   ]
  },
  {
   "cell_type": "code",
   "execution_count": null,
   "metadata": {},
   "outputs": [],
   "source": []
  }
 ],
 "metadata": {
  "kernelspec": {
   "display_name": "Python 3",
   "language": "python",
   "name": "python3"
  },
  "language_info": {
   "codemirror_mode": {
    "name": "ipython",
    "version": 3
   },
   "file_extension": ".py",
   "mimetype": "text/x-python",
   "name": "python",
   "nbconvert_exporter": "python",
   "pygments_lexer": "ipython3",
   "version": "3.8.5"
  }
 },
 "nbformat": 4,
 "nbformat_minor": 4
}
