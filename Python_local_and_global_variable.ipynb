{
 "cells": [
  {
   "cell_type": "markdown",
   "metadata": {},
   "source": [
    "Creating a local variable."
   ]
  },
  {
   "cell_type": "code",
   "execution_count": 3,
   "metadata": {},
   "outputs": [
    {
     "ename": "NameError",
     "evalue": "name 'addition_of_numbers' is not defined",
     "output_type": "error",
     "traceback": [
      "\u001b[1;31m---------------------------------------------------------------------------\u001b[0m",
      "\u001b[1;31mNameError\u001b[0m                                 Traceback (most recent call last)",
      "\u001b[1;32m<ipython-input-3-14fbbc094c2a>\u001b[0m in \u001b[0;36m<module>\u001b[1;34m\u001b[0m\n\u001b[0;32m      4\u001b[0m \u001b[1;33m\u001b[0m\u001b[0m\n\u001b[0;32m      5\u001b[0m \u001b[0madd_number\u001b[0m\u001b[1;33m(\u001b[0m\u001b[1;36m2\u001b[0m\u001b[1;33m,\u001b[0m\u001b[1;36m4\u001b[0m\u001b[1;33m)\u001b[0m\u001b[1;33m\u001b[0m\u001b[1;33m\u001b[0m\u001b[0m\n\u001b[1;32m----> 6\u001b[1;33m \u001b[0mprint\u001b[0m\u001b[1;33m(\u001b[0m\u001b[0maddition_of_numbers\u001b[0m\u001b[1;33m)\u001b[0m\u001b[1;33m\u001b[0m\u001b[1;33m\u001b[0m\u001b[0m\n\u001b[0m",
      "\u001b[1;31mNameError\u001b[0m: name 'addition_of_numbers' is not defined"
     ]
    }
   ],
   "source": [
    "def add_number(g1,g2):\n",
    "    addition_of_numbers = g1 +g2\n",
    "   \n",
    " add_number(2,4)\n",
    "print(addition_of_numbers)"
   ]
  },
  {
   "cell_type": "markdown",
   "metadata": {},
   "source": [
    "As we can see we are getting an error stating that the variable is not defined. Any variable created inside the function is local to it. Means the 'addition_of_numbers' variable is local to the add_number function, when this function ends this variable gets destroyed (To fix this we can give a return statement and that will return the value back to the function."
   ]
  },
  {
   "cell_type": "markdown",
   "metadata": {},
   "source": [
    "# Any variables that are created outside the functions are called as 'Global Function.'"
   ]
  },
  {
   "cell_type": "markdown",
   "metadata": {},
   "source": [
    "We can use the global variables for both outside and inside of the function."
   ]
  },
  {
   "cell_type": "code",
   "execution_count": 1,
   "metadata": {},
   "outputs": [
    {
     "name": "stdout",
     "output_type": "stream",
     "text": [
      "the inside message is:  how are you?\n",
      "the outside message is:  how you doing?\n"
     ]
    }
   ],
   "source": [
    "message = \"how you doing?\"\n",
    "\n",
    "def greet():\n",
    "    message = \"how are you?\"\n",
    "    print(\"the inside message is: \", message)\n",
    "    \n",
    "greet()\n",
    "print(\"the outside message is: \", message)"
   ]
  },
  {
   "cell_type": "code",
   "execution_count": 2,
   "metadata": {},
   "outputs": [
    {
     "name": "stdout",
     "output_type": "stream",
     "text": [
      "the inside message is:  how are you?\n",
      "the outside message is:  how are you?\n"
     ]
    }
   ],
   "source": [
    "message = \"how you doing?\"\n",
    "\n",
    "def greet():\n",
    "    global message # by giving the keyword global both the message variabes values had been changed as per the inside function value.\n",
    "    message = \"how are you?\"\n",
    "    print(\"the inside message is: \", message)\n",
    "    \n",
    "greet()\n",
    "print(\"the outside message is: \", message)"
   ]
  },
  {
   "cell_type": "code",
   "execution_count": 8,
   "metadata": {},
   "outputs": [
    {
     "name": "stdout",
     "output_type": "stream",
     "text": [
      "january\n",
      "february\n",
      "april\n",
      "may\n",
      "june\n",
      "july\n",
      "augest\n"
     ]
    }
   ],
   "source": [
    "months = ['january','february','march','april','may','june','july','augest']\n",
    "def calender():\n",
    "    for i in months:\n",
    "        if i == 'march':\n",
    "            continue\n",
    "        print(i)  \n",
    "\n",
    "output_of_months = calender()\n",
    "\n",
    "    \n",
    "    "
   ]
  },
  {
   "cell_type": "code",
   "execution_count": 11,
   "metadata": {},
   "outputs": [
    {
     "name": "stdout",
     "output_type": "stream",
     "text": [
      "the inner variable is:  bharatnatyam\n",
      "the outside variable vlaue is:  kathak\n"
     ]
    }
   ],
   "source": [
    "dances = \"kathak\"\n",
    "\n",
    "def dance_form():\n",
    "    dances = \"bharatnatyam\"\n",
    "    print(\"the inner variable is: \", dances)\n",
    "dance_form()\n",
    "print(\"the outside variable vlaue is: \", dances)"
   ]
  },
  {
   "cell_type": "code",
   "execution_count": 12,
   "metadata": {},
   "outputs": [
    {
     "name": "stdout",
     "output_type": "stream",
     "text": [
      "the inner variable is:  bharatnatyam\n",
      "the outside variable vlaue is:  bharatnatyam\n"
     ]
    }
   ],
   "source": [
    "dances = \"kathak\"\n",
    "\n",
    "def dance_form():\n",
    "    global dances\n",
    "    dances = \"bharatnatyam\"\n",
    "    print(\"the inner variable is: \", dances)\n",
    "dance_form()\n",
    "print(\"the outside variable vlaue is: \", dances)"
   ]
  },
  {
   "cell_type": "code",
   "execution_count": 18,
   "metadata": {},
   "outputs": [
    {
     "name": "stdout",
     "output_type": "stream",
     "text": [
      "the inner variable is:  bharatnatyam\n",
      "the outside variable vlaue is:  kathak\n"
     ]
    }
   ],
   "source": [
    "dances = \"kathak\"\n",
    "\n",
    "def dance_form():\n",
    "    dances = \"bharatnatyam\"\n",
    "    print(\"the inner variable is: \", dances)\n",
    "dance_form()\n",
    "print(\"the outside variable vlaue is: \", dances)\n",
    "global dances #as we can see the change is affected only when we mention the global inside the function."
   ]
  },
  {
   "cell_type": "code",
   "execution_count": null,
   "metadata": {},
   "outputs": [],
   "source": []
  },
  {
   "cell_type": "code",
   "execution_count": null,
   "metadata": {},
   "outputs": [],
   "source": []
  }
 ],
 "metadata": {
  "kernelspec": {
   "display_name": "Python 3",
   "language": "python",
   "name": "python3"
  },
  "language_info": {
   "codemirror_mode": {
    "name": "ipython",
    "version": 3
   },
   "file_extension": ".py",
   "mimetype": "text/x-python",
   "name": "python",
   "nbconvert_exporter": "python",
   "pygments_lexer": "ipython3",
   "version": "3.8.5"
  }
 },
 "nbformat": 4,
 "nbformat_minor": 4
}
